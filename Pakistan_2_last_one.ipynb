{
  "nbformat": 4,
  "nbformat_minor": 0,
  "metadata": {
    "colab": {
      "provenance": []
    },
    "kernelspec": {
      "name": "python3",
      "display_name": "Python 3"
    },
    "language_info": {
      "name": "python"
    }
  },
  "cells": [
    {
      "cell_type": "markdown",
      "source": [
        "**Import Libraries**"
      ],
      "metadata": {
        "id": "8mQbwvURBe_f"
      }
    },
    {
      "cell_type": "code",
      "execution_count": null,
      "metadata": {
        "id": "hXcc2Pw83PcX"
      },
      "outputs": [],
      "source": [
        "import pandas as pd\n",
        "import numpy as np"
      ]
    },
    {
      "cell_type": "markdown",
      "source": [
        "**Load Dataset**"
      ],
      "metadata": {
        "id": "SfP8oTZ-BpCY"
      }
    },
    {
      "cell_type": "code",
      "source": [
        "data=pd.read_excel(\"/content/pakistan.xlsx\")"
      ],
      "metadata": {
        "id": "7J4M4yXJ3aHp"
      },
      "execution_count": null,
      "outputs": []
    },
    {
      "cell_type": "code",
      "source": [
        "data"
      ],
      "metadata": {
        "colab": {
          "base_uri": "https://localhost:8080/",
          "height": 938
        },
        "id": "sAzneQJA4KKf",
        "outputId": "bfb5367e-8e34-4c2c-ce3e-9a986f2823cf"
      },
      "execution_count": null,
      "outputs": [
        {
          "output_type": "execute_result",
          "data": {
            "text/plain": [
              "     1.1.a.1 Date of Current Survey  1.1.a.2 Survey Round  \\\n",
              "0                    #date+occurred                   NaN   \n",
              "1               2023-02-16 00:00:00                   2.0   \n",
              "2               2023-02-16 00:00:00                   2.0   \n",
              "3               2023-02-16 00:00:00                   2.0   \n",
              "4               2023-02-16 00:00:00                   2.0   \n",
              "...                             ...                   ...   \n",
              "6363            2023-01-22 00:00:00                   2.0   \n",
              "6364            2023-01-30 00:00:00                   2.0   \n",
              "6365            2023-01-17 00:00:00                   2.0   \n",
              "6366            2023-01-19 00:00:00                   2.0   \n",
              "6367            2023-01-20 00:00:00                   2.0   \n",
              "\n",
              "      Select the number of Respondent(s)        Reported Date        Country  \\\n",
              "0                                    NaN       #date+reported  #country+name   \n",
              "1                                    3.0  2023-03-31 00:00:00       Pakistan   \n",
              "2                                    3.0  2023-03-31 00:00:00       Pakistan   \n",
              "3                                    3.0  2023-03-31 00:00:00       Pakistan   \n",
              "4                                    3.0  2023-03-31 00:00:00       Pakistan   \n",
              "...                                  ...                  ...            ...   \n",
              "6363                                 4.0  2023-03-31 00:00:00       Pakistan   \n",
              "6364                                 4.0  2023-03-31 00:00:00       Pakistan   \n",
              "6365                                 4.0  2023-03-31 00:00:00       Pakistan   \n",
              "6366                                 4.0  2023-03-31 00:00:00       Pakistan   \n",
              "6367                                 4.0  2023-03-31 00:00:00       Pakistan   \n",
              "\n",
              "       Country Code            Province Province Pcode   Division  \\\n",
              "0     #country+code          #adm1+name     #adm1+code        NaN   \n",
              "1               PAK         Balochistan           PK07       Zhob   \n",
              "2               PAK         Balochistan           PK07       Zhob   \n",
              "3               PAK         Balochistan           PK07       Zhob   \n",
              "4               PAK         Balochistan           PK07       Zhob   \n",
              "...             ...                 ...            ...        ...   \n",
              "6363            PAK  Khyber Pakhtunkhwa           PK02  D.I. Khan   \n",
              "6364            PAK  Khyber Pakhtunkhwa           PK02  D.I. Khan   \n",
              "6365            PAK  Khyber Pakhtunkhwa           PK02  D.I. Khan   \n",
              "6366            PAK  Khyber Pakhtunkhwa           PK02  D.I. Khan   \n",
              "6367            PAK  Khyber Pakhtunkhwa           PK02  D.I. Khan   \n",
              "\n",
              "             District  ... Is there adequate lighting in the latrines?  \\\n",
              "0          #adm2+name  ...                                         NaN   \n",
              "1     Killa Saifullah  ...                                          No   \n",
              "2     Killa Saifullah  ...                                          No   \n",
              "3     Killa Saifullah  ...                                          No   \n",
              "4     Killa Saifullah  ...                                          No   \n",
              "...               ...  ...                                         ...   \n",
              "6363         D.I.Khan  ...                                          No   \n",
              "6364         D.I.Khan  ...                                          No   \n",
              "6365         D.I.Khan  ...                                          No   \n",
              "6366         D.I.Khan  ...                                          No   \n",
              "6367         D.I.Khan  ...                                          No   \n",
              "\n",
              "     Do organizations inform the community that all services/ assistance provided by humanitarian agencies are free and should not be exchanged for anything at all?  \\\n",
              "0                                                   NaN                                                                                                                \n",
              "1                                                    No                                                                                                                \n",
              "2                                                    No                                                                                                                \n",
              "3                                                    No                                                                                                                \n",
              "4                                                    No                                                                                                                \n",
              "...                                                 ...                                                                                                                \n",
              "6363                                                Yes                                                                                                                \n",
              "6364                                            Unknown                                                                                                                \n",
              "6365                                            Unknown                                                                                                                \n",
              "6366                                                Yes                                                                                                                \n",
              "6367                                                Yes                                                                                                                \n",
              "\n",
              "     If there is misbehaviour, or something concerning in the behaviour of an aid worker, is there a system/ mechanism/ focal point that the community can use to complain?  \\\n",
              "0                                                   NaN                                                                                                                       \n",
              "1                                                    No                                                                                                                       \n",
              "2                                                    No                                                                                                                       \n",
              "3                                                    No                                                                                                                       \n",
              "4                                                    No                                                                                                                       \n",
              "...                                                 ...                                                                                                                       \n",
              "6363                                                 No                                                                                                                       \n",
              "6364                                            Unknown                                                                                                                       \n",
              "6365                                            Unknown                                                                                                                       \n",
              "6366                                                Yes                                                                                                                       \n",
              "6367                                                Yes                                                                                                                       \n",
              "\n",
              "      Was the information provided by the different key informants matching?  \\\n",
              "0                                                   NaN                        \n",
              "1                                              Yes most                        \n",
              "2                                              Yes most                        \n",
              "3                                              Yes most                        \n",
              "4                                             Only some                        \n",
              "...                                                 ...                        \n",
              "6363                                           Yes most                        \n",
              "6364                                           Yes most                        \n",
              "6365                                           Yes most                        \n",
              "6366                                           Yes most                        \n",
              "6367                                           Yes most                        \n",
              "\n",
              "     Was the information provided matching with your observations?  \\\n",
              "0                                                   NaN              \n",
              "1                                              Yes most              \n",
              "2                                              Yes most              \n",
              "3                                              Yes most              \n",
              "4                                             Only some              \n",
              "...                                                 ...              \n",
              "6363                                           Yes most              \n",
              "6364                                           Yes most              \n",
              "6365                                           Yes most              \n",
              "6366                                           Yes most              \n",
              "6367                                           Yes most              \n",
              "\n",
              "      Did the source of information have lists/records of TDPs?  \\\n",
              "0                                                   NaN           \n",
              "1                                             Only some           \n",
              "2                                             Only some           \n",
              "3                                              Yes most           \n",
              "4                                              Yes most           \n",
              "...                                                 ...           \n",
              "6363                                         Not at all           \n",
              "6364                                         Not at all           \n",
              "6365                                         Not at all           \n",
              "6366                                         Not at all           \n",
              "6367                                          Only some           \n",
              "\n",
              "                                Any additional comments    _submission_time  \\\n",
              "0                                                   NaN                 NaT   \n",
              "1                                                   NaN 2023-02-16 16:20:56   \n",
              "2                                                   NaN 2023-02-16 16:20:59   \n",
              "3                                                   NaN 2023-02-16 16:31:13   \n",
              "4                                                   NaN 2023-02-16 16:31:16   \n",
              "...                                                 ...                 ...   \n",
              "6363                                                NaN 2023-02-05 18:19:20   \n",
              "6364                                                NaN 2023-02-05 18:19:21   \n",
              "6365                                                NaN 2023-02-05 18:50:50   \n",
              "6366                                                NaN 2023-02-05 18:50:51   \n",
              "6367  The information collected in this flood affect... 2023-02-05 18:50:52   \n",
              "\n",
              "           _submitted_by  _index  \n",
              "0                    NaN     NaN  \n",
              "1     pak_remap_bma_enum     2.0  \n",
              "2     pak_remap_bma_enum     3.0  \n",
              "3     pak_remap_bma_enum     4.0  \n",
              "4     pak_remap_bma_enum     5.0  \n",
              "...                  ...     ...  \n",
              "6363  pak_remap_bma_enum  1685.0  \n",
              "6364  pak_remap_bma_enum  1686.0  \n",
              "6365  pak_remap_bma_enum  1687.0  \n",
              "6366  pak_remap_bma_enum  1688.0  \n",
              "6367  pak_remap_bma_enum  1689.0  \n",
              "\n",
              "[6368 rows x 340 columns]"
            ],
            "text/html": [
              "\n",
              "\n",
              "  <div id=\"df-3dd3d602-341c-4265-a396-47f53b4b0631\">\n",
              "    <div class=\"colab-df-container\">\n",
              "      <div>\n",
              "<style scoped>\n",
              "    .dataframe tbody tr th:only-of-type {\n",
              "        vertical-align: middle;\n",
              "    }\n",
              "\n",
              "    .dataframe tbody tr th {\n",
              "        vertical-align: top;\n",
              "    }\n",
              "\n",
              "    .dataframe thead th {\n",
              "        text-align: right;\n",
              "    }\n",
              "</style>\n",
              "<table border=\"1\" class=\"dataframe\">\n",
              "  <thead>\n",
              "    <tr style=\"text-align: right;\">\n",
              "      <th></th>\n",
              "      <th>1.1.a.1 Date of Current Survey</th>\n",
              "      <th>1.1.a.2 Survey Round</th>\n",
              "      <th>Select the number of Respondent(s)</th>\n",
              "      <th>Reported Date</th>\n",
              "      <th>Country</th>\n",
              "      <th>Country Code</th>\n",
              "      <th>Province</th>\n",
              "      <th>Province Pcode</th>\n",
              "      <th>Division</th>\n",
              "      <th>District</th>\n",
              "      <th>...</th>\n",
              "      <th>Is there adequate lighting in the latrines?</th>\n",
              "      <th>Do organizations inform the community that all services/ assistance provided by humanitarian agencies are free and should not be exchanged for anything at all?</th>\n",
              "      <th>If there is misbehaviour, or something concerning in the behaviour of an aid worker, is there a system/ mechanism/ focal point that the community can use to complain?</th>\n",
              "      <th>Was the information provided by the different key informants matching?</th>\n",
              "      <th>Was the information provided matching with your observations?</th>\n",
              "      <th>Did the source of information have lists/records of TDPs?</th>\n",
              "      <th>Any additional comments</th>\n",
              "      <th>_submission_time</th>\n",
              "      <th>_submitted_by</th>\n",
              "      <th>_index</th>\n",
              "    </tr>\n",
              "  </thead>\n",
              "  <tbody>\n",
              "    <tr>\n",
              "      <th>0</th>\n",
              "      <td>#date+occurred</td>\n",
              "      <td>NaN</td>\n",
              "      <td>NaN</td>\n",
              "      <td>#date+reported</td>\n",
              "      <td>#country+name</td>\n",
              "      <td>#country+code</td>\n",
              "      <td>#adm1+name</td>\n",
              "      <td>#adm1+code</td>\n",
              "      <td>NaN</td>\n",
              "      <td>#adm2+name</td>\n",
              "      <td>...</td>\n",
              "      <td>NaN</td>\n",
              "      <td>NaN</td>\n",
              "      <td>NaN</td>\n",
              "      <td>NaN</td>\n",
              "      <td>NaN</td>\n",
              "      <td>NaN</td>\n",
              "      <td>NaN</td>\n",
              "      <td>NaT</td>\n",
              "      <td>NaN</td>\n",
              "      <td>NaN</td>\n",
              "    </tr>\n",
              "    <tr>\n",
              "      <th>1</th>\n",
              "      <td>2023-02-16 00:00:00</td>\n",
              "      <td>2.0</td>\n",
              "      <td>3.0</td>\n",
              "      <td>2023-03-31 00:00:00</td>\n",
              "      <td>Pakistan</td>\n",
              "      <td>PAK</td>\n",
              "      <td>Balochistan</td>\n",
              "      <td>PK07</td>\n",
              "      <td>Zhob</td>\n",
              "      <td>Killa Saifullah</td>\n",
              "      <td>...</td>\n",
              "      <td>No</td>\n",
              "      <td>No</td>\n",
              "      <td>No</td>\n",
              "      <td>Yes most</td>\n",
              "      <td>Yes most</td>\n",
              "      <td>Only some</td>\n",
              "      <td>NaN</td>\n",
              "      <td>2023-02-16 16:20:56</td>\n",
              "      <td>pak_remap_bma_enum</td>\n",
              "      <td>2.0</td>\n",
              "    </tr>\n",
              "    <tr>\n",
              "      <th>2</th>\n",
              "      <td>2023-02-16 00:00:00</td>\n",
              "      <td>2.0</td>\n",
              "      <td>3.0</td>\n",
              "      <td>2023-03-31 00:00:00</td>\n",
              "      <td>Pakistan</td>\n",
              "      <td>PAK</td>\n",
              "      <td>Balochistan</td>\n",
              "      <td>PK07</td>\n",
              "      <td>Zhob</td>\n",
              "      <td>Killa Saifullah</td>\n",
              "      <td>...</td>\n",
              "      <td>No</td>\n",
              "      <td>No</td>\n",
              "      <td>No</td>\n",
              "      <td>Yes most</td>\n",
              "      <td>Yes most</td>\n",
              "      <td>Only some</td>\n",
              "      <td>NaN</td>\n",
              "      <td>2023-02-16 16:20:59</td>\n",
              "      <td>pak_remap_bma_enum</td>\n",
              "      <td>3.0</td>\n",
              "    </tr>\n",
              "    <tr>\n",
              "      <th>3</th>\n",
              "      <td>2023-02-16 00:00:00</td>\n",
              "      <td>2.0</td>\n",
              "      <td>3.0</td>\n",
              "      <td>2023-03-31 00:00:00</td>\n",
              "      <td>Pakistan</td>\n",
              "      <td>PAK</td>\n",
              "      <td>Balochistan</td>\n",
              "      <td>PK07</td>\n",
              "      <td>Zhob</td>\n",
              "      <td>Killa Saifullah</td>\n",
              "      <td>...</td>\n",
              "      <td>No</td>\n",
              "      <td>No</td>\n",
              "      <td>No</td>\n",
              "      <td>Yes most</td>\n",
              "      <td>Yes most</td>\n",
              "      <td>Yes most</td>\n",
              "      <td>NaN</td>\n",
              "      <td>2023-02-16 16:31:13</td>\n",
              "      <td>pak_remap_bma_enum</td>\n",
              "      <td>4.0</td>\n",
              "    </tr>\n",
              "    <tr>\n",
              "      <th>4</th>\n",
              "      <td>2023-02-16 00:00:00</td>\n",
              "      <td>2.0</td>\n",
              "      <td>3.0</td>\n",
              "      <td>2023-03-31 00:00:00</td>\n",
              "      <td>Pakistan</td>\n",
              "      <td>PAK</td>\n",
              "      <td>Balochistan</td>\n",
              "      <td>PK07</td>\n",
              "      <td>Zhob</td>\n",
              "      <td>Killa Saifullah</td>\n",
              "      <td>...</td>\n",
              "      <td>No</td>\n",
              "      <td>No</td>\n",
              "      <td>No</td>\n",
              "      <td>Only some</td>\n",
              "      <td>Only some</td>\n",
              "      <td>Yes most</td>\n",
              "      <td>NaN</td>\n",
              "      <td>2023-02-16 16:31:16</td>\n",
              "      <td>pak_remap_bma_enum</td>\n",
              "      <td>5.0</td>\n",
              "    </tr>\n",
              "    <tr>\n",
              "      <th>...</th>\n",
              "      <td>...</td>\n",
              "      <td>...</td>\n",
              "      <td>...</td>\n",
              "      <td>...</td>\n",
              "      <td>...</td>\n",
              "      <td>...</td>\n",
              "      <td>...</td>\n",
              "      <td>...</td>\n",
              "      <td>...</td>\n",
              "      <td>...</td>\n",
              "      <td>...</td>\n",
              "      <td>...</td>\n",
              "      <td>...</td>\n",
              "      <td>...</td>\n",
              "      <td>...</td>\n",
              "      <td>...</td>\n",
              "      <td>...</td>\n",
              "      <td>...</td>\n",
              "      <td>...</td>\n",
              "      <td>...</td>\n",
              "      <td>...</td>\n",
              "    </tr>\n",
              "    <tr>\n",
              "      <th>6363</th>\n",
              "      <td>2023-01-22 00:00:00</td>\n",
              "      <td>2.0</td>\n",
              "      <td>4.0</td>\n",
              "      <td>2023-03-31 00:00:00</td>\n",
              "      <td>Pakistan</td>\n",
              "      <td>PAK</td>\n",
              "      <td>Khyber Pakhtunkhwa</td>\n",
              "      <td>PK02</td>\n",
              "      <td>D.I. Khan</td>\n",
              "      <td>D.I.Khan</td>\n",
              "      <td>...</td>\n",
              "      <td>No</td>\n",
              "      <td>Yes</td>\n",
              "      <td>No</td>\n",
              "      <td>Yes most</td>\n",
              "      <td>Yes most</td>\n",
              "      <td>Not at all</td>\n",
              "      <td>NaN</td>\n",
              "      <td>2023-02-05 18:19:20</td>\n",
              "      <td>pak_remap_bma_enum</td>\n",
              "      <td>1685.0</td>\n",
              "    </tr>\n",
              "    <tr>\n",
              "      <th>6364</th>\n",
              "      <td>2023-01-30 00:00:00</td>\n",
              "      <td>2.0</td>\n",
              "      <td>4.0</td>\n",
              "      <td>2023-03-31 00:00:00</td>\n",
              "      <td>Pakistan</td>\n",
              "      <td>PAK</td>\n",
              "      <td>Khyber Pakhtunkhwa</td>\n",
              "      <td>PK02</td>\n",
              "      <td>D.I. Khan</td>\n",
              "      <td>D.I.Khan</td>\n",
              "      <td>...</td>\n",
              "      <td>No</td>\n",
              "      <td>Unknown</td>\n",
              "      <td>Unknown</td>\n",
              "      <td>Yes most</td>\n",
              "      <td>Yes most</td>\n",
              "      <td>Not at all</td>\n",
              "      <td>NaN</td>\n",
              "      <td>2023-02-05 18:19:21</td>\n",
              "      <td>pak_remap_bma_enum</td>\n",
              "      <td>1686.0</td>\n",
              "    </tr>\n",
              "    <tr>\n",
              "      <th>6365</th>\n",
              "      <td>2023-01-17 00:00:00</td>\n",
              "      <td>2.0</td>\n",
              "      <td>4.0</td>\n",
              "      <td>2023-03-31 00:00:00</td>\n",
              "      <td>Pakistan</td>\n",
              "      <td>PAK</td>\n",
              "      <td>Khyber Pakhtunkhwa</td>\n",
              "      <td>PK02</td>\n",
              "      <td>D.I. Khan</td>\n",
              "      <td>D.I.Khan</td>\n",
              "      <td>...</td>\n",
              "      <td>No</td>\n",
              "      <td>Unknown</td>\n",
              "      <td>Unknown</td>\n",
              "      <td>Yes most</td>\n",
              "      <td>Yes most</td>\n",
              "      <td>Not at all</td>\n",
              "      <td>NaN</td>\n",
              "      <td>2023-02-05 18:50:50</td>\n",
              "      <td>pak_remap_bma_enum</td>\n",
              "      <td>1687.0</td>\n",
              "    </tr>\n",
              "    <tr>\n",
              "      <th>6366</th>\n",
              "      <td>2023-01-19 00:00:00</td>\n",
              "      <td>2.0</td>\n",
              "      <td>4.0</td>\n",
              "      <td>2023-03-31 00:00:00</td>\n",
              "      <td>Pakistan</td>\n",
              "      <td>PAK</td>\n",
              "      <td>Khyber Pakhtunkhwa</td>\n",
              "      <td>PK02</td>\n",
              "      <td>D.I. Khan</td>\n",
              "      <td>D.I.Khan</td>\n",
              "      <td>...</td>\n",
              "      <td>No</td>\n",
              "      <td>Yes</td>\n",
              "      <td>Yes</td>\n",
              "      <td>Yes most</td>\n",
              "      <td>Yes most</td>\n",
              "      <td>Not at all</td>\n",
              "      <td>NaN</td>\n",
              "      <td>2023-02-05 18:50:51</td>\n",
              "      <td>pak_remap_bma_enum</td>\n",
              "      <td>1688.0</td>\n",
              "    </tr>\n",
              "    <tr>\n",
              "      <th>6367</th>\n",
              "      <td>2023-01-20 00:00:00</td>\n",
              "      <td>2.0</td>\n",
              "      <td>4.0</td>\n",
              "      <td>2023-03-31 00:00:00</td>\n",
              "      <td>Pakistan</td>\n",
              "      <td>PAK</td>\n",
              "      <td>Khyber Pakhtunkhwa</td>\n",
              "      <td>PK02</td>\n",
              "      <td>D.I. Khan</td>\n",
              "      <td>D.I.Khan</td>\n",
              "      <td>...</td>\n",
              "      <td>No</td>\n",
              "      <td>Yes</td>\n",
              "      <td>Yes</td>\n",
              "      <td>Yes most</td>\n",
              "      <td>Yes most</td>\n",
              "      <td>Only some</td>\n",
              "      <td>The information collected in this flood affect...</td>\n",
              "      <td>2023-02-05 18:50:52</td>\n",
              "      <td>pak_remap_bma_enum</td>\n",
              "      <td>1689.0</td>\n",
              "    </tr>\n",
              "  </tbody>\n",
              "</table>\n",
              "<p>6368 rows × 340 columns</p>\n",
              "</div>\n",
              "      <button class=\"colab-df-convert\" onclick=\"convertToInteractive('df-3dd3d602-341c-4265-a396-47f53b4b0631')\"\n",
              "              title=\"Convert this dataframe to an interactive table.\"\n",
              "              style=\"display:none;\">\n",
              "\n",
              "  <svg xmlns=\"http://www.w3.org/2000/svg\" height=\"24px\"viewBox=\"0 0 24 24\"\n",
              "       width=\"24px\">\n",
              "    <path d=\"M0 0h24v24H0V0z\" fill=\"none\"/>\n",
              "    <path d=\"M18.56 5.44l.94 2.06.94-2.06 2.06-.94-2.06-.94-.94-2.06-.94 2.06-2.06.94zm-11 1L8.5 8.5l.94-2.06 2.06-.94-2.06-.94L8.5 2.5l-.94 2.06-2.06.94zm10 10l.94 2.06.94-2.06 2.06-.94-2.06-.94-.94-2.06-.94 2.06-2.06.94z\"/><path d=\"M17.41 7.96l-1.37-1.37c-.4-.4-.92-.59-1.43-.59-.52 0-1.04.2-1.43.59L10.3 9.45l-7.72 7.72c-.78.78-.78 2.05 0 2.83L4 21.41c.39.39.9.59 1.41.59.51 0 1.02-.2 1.41-.59l7.78-7.78 2.81-2.81c.8-.78.8-2.07 0-2.86zM5.41 20L4 18.59l7.72-7.72 1.47 1.35L5.41 20z\"/>\n",
              "  </svg>\n",
              "      </button>\n",
              "\n",
              "\n",
              "\n",
              "    <div id=\"df-147c3723-6f33-47ff-b246-3d3caa0cd225\">\n",
              "      <button class=\"colab-df-quickchart\" onclick=\"quickchart('df-147c3723-6f33-47ff-b246-3d3caa0cd225')\"\n",
              "              title=\"Suggest charts.\"\n",
              "              style=\"display:none;\">\n",
              "\n",
              "<svg xmlns=\"http://www.w3.org/2000/svg\" height=\"24px\"viewBox=\"0 0 24 24\"\n",
              "     width=\"24px\">\n",
              "    <g>\n",
              "        <path d=\"M19 3H5c-1.1 0-2 .9-2 2v14c0 1.1.9 2 2 2h14c1.1 0 2-.9 2-2V5c0-1.1-.9-2-2-2zM9 17H7v-7h2v7zm4 0h-2V7h2v10zm4 0h-2v-4h2v4z\"/>\n",
              "    </g>\n",
              "</svg>\n",
              "      </button>\n",
              "    </div>\n",
              "\n",
              "<style>\n",
              "  .colab-df-quickchart {\n",
              "    background-color: #E8F0FE;\n",
              "    border: none;\n",
              "    border-radius: 50%;\n",
              "    cursor: pointer;\n",
              "    display: none;\n",
              "    fill: #1967D2;\n",
              "    height: 32px;\n",
              "    padding: 0 0 0 0;\n",
              "    width: 32px;\n",
              "  }\n",
              "\n",
              "  .colab-df-quickchart:hover {\n",
              "    background-color: #E2EBFA;\n",
              "    box-shadow: 0px 1px 2px rgba(60, 64, 67, 0.3), 0px 1px 3px 1px rgba(60, 64, 67, 0.15);\n",
              "    fill: #174EA6;\n",
              "  }\n",
              "\n",
              "  [theme=dark] .colab-df-quickchart {\n",
              "    background-color: #3B4455;\n",
              "    fill: #D2E3FC;\n",
              "  }\n",
              "\n",
              "  [theme=dark] .colab-df-quickchart:hover {\n",
              "    background-color: #434B5C;\n",
              "    box-shadow: 0px 1px 3px 1px rgba(0, 0, 0, 0.15);\n",
              "    filter: drop-shadow(0px 1px 2px rgba(0, 0, 0, 0.3));\n",
              "    fill: #FFFFFF;\n",
              "  }\n",
              "</style>\n",
              "\n",
              "    <script>\n",
              "      async function quickchart(key) {\n",
              "        const containerElement = document.querySelector('#' + key);\n",
              "        const charts = await google.colab.kernel.invokeFunction(\n",
              "            'suggestCharts', [key], {});\n",
              "      }\n",
              "    </script>\n",
              "\n",
              "      <script>\n",
              "\n",
              "function displayQuickchartButton(domScope) {\n",
              "  let quickchartButtonEl =\n",
              "    domScope.querySelector('#df-147c3723-6f33-47ff-b246-3d3caa0cd225 button.colab-df-quickchart');\n",
              "  quickchartButtonEl.style.display =\n",
              "    google.colab.kernel.accessAllowed ? 'block' : 'none';\n",
              "}\n",
              "\n",
              "        displayQuickchartButton(document);\n",
              "      </script>\n",
              "      <style>\n",
              "    .colab-df-container {\n",
              "      display:flex;\n",
              "      flex-wrap:wrap;\n",
              "      gap: 12px;\n",
              "    }\n",
              "\n",
              "    .colab-df-convert {\n",
              "      background-color: #E8F0FE;\n",
              "      border: none;\n",
              "      border-radius: 50%;\n",
              "      cursor: pointer;\n",
              "      display: none;\n",
              "      fill: #1967D2;\n",
              "      height: 32px;\n",
              "      padding: 0 0 0 0;\n",
              "      width: 32px;\n",
              "    }\n",
              "\n",
              "    .colab-df-convert:hover {\n",
              "      background-color: #E2EBFA;\n",
              "      box-shadow: 0px 1px 2px rgba(60, 64, 67, 0.3), 0px 1px 3px 1px rgba(60, 64, 67, 0.15);\n",
              "      fill: #174EA6;\n",
              "    }\n",
              "\n",
              "    [theme=dark] .colab-df-convert {\n",
              "      background-color: #3B4455;\n",
              "      fill: #D2E3FC;\n",
              "    }\n",
              "\n",
              "    [theme=dark] .colab-df-convert:hover {\n",
              "      background-color: #434B5C;\n",
              "      box-shadow: 0px 1px 3px 1px rgba(0, 0, 0, 0.15);\n",
              "      filter: drop-shadow(0px 1px 2px rgba(0, 0, 0, 0.3));\n",
              "      fill: #FFFFFF;\n",
              "    }\n",
              "  </style>\n",
              "\n",
              "      <script>\n",
              "        const buttonEl =\n",
              "          document.querySelector('#df-3dd3d602-341c-4265-a396-47f53b4b0631 button.colab-df-convert');\n",
              "        buttonEl.style.display =\n",
              "          google.colab.kernel.accessAllowed ? 'block' : 'none';\n",
              "\n",
              "        async function convertToInteractive(key) {\n",
              "          const element = document.querySelector('#df-3dd3d602-341c-4265-a396-47f53b4b0631');\n",
              "          const dataTable =\n",
              "            await google.colab.kernel.invokeFunction('convertToInteractive',\n",
              "                                                     [key], {});\n",
              "          if (!dataTable) return;\n",
              "\n",
              "          const docLinkHtml = 'Like what you see? Visit the ' +\n",
              "            '<a target=\"_blank\" href=https://colab.research.google.com/notebooks/data_table.ipynb>data table notebook</a>'\n",
              "            + ' to learn more about interactive tables.';\n",
              "          element.innerHTML = '';\n",
              "          dataTable['output_type'] = 'display_data';\n",
              "          await google.colab.output.renderOutput(dataTable, element);\n",
              "          const docLink = document.createElement('div');\n",
              "          docLink.innerHTML = docLinkHtml;\n",
              "          element.appendChild(docLink);\n",
              "        }\n",
              "      </script>\n",
              "    </div>\n",
              "  </div>\n"
            ]
          },
          "metadata": {},
          "execution_count": 12
        }
      ]
    },
    {
      "cell_type": "code",
      "source": [
        "#size of dataset\n",
        "data.shape"
      ],
      "metadata": {
        "colab": {
          "base_uri": "https://localhost:8080/"
        },
        "id": "DzWohkxQ4QB2",
        "outputId": "32acf8c0-7dc9-410b-faf5-f804ace11c70"
      },
      "execution_count": null,
      "outputs": [
        {
          "output_type": "execute_result",
          "data": {
            "text/plain": [
              "(6368, 340)"
            ]
          },
          "metadata": {},
          "execution_count": 13
        }
      ]
    },
    {
      "cell_type": "code",
      "source": [
        "data.dtypes"
      ],
      "metadata": {
        "colab": {
          "base_uri": "https://localhost:8080/"
        },
        "id": "q3pLdjUl4VRd",
        "outputId": "a673e39d-ca64-4b97-98f6-e29a64bca3c7"
      },
      "execution_count": null,
      "outputs": [
        {
          "output_type": "execute_result",
          "data": {
            "text/plain": [
              "1.1.a.1 Date of Current Survey                                       object\n",
              "1.1.a.2 Survey Round                                                float64\n",
              "Select the number of Respondent(s)                                  float64\n",
              "Reported Date                                                        object\n",
              "Country                                                              object\n",
              "                                                                  ...      \n",
              "Did the source of information have lists/records of TDPs?            object\n",
              "Any additional comments                                              object\n",
              "_submission_time                                             datetime64[ns]\n",
              "_submitted_by                                                        object\n",
              "_index                                                              float64\n",
              "Length: 340, dtype: object"
            ]
          },
          "metadata": {},
          "execution_count": 14
        }
      ]
    },
    {
      "cell_type": "code",
      "source": [
        "# Check null values, 20 colums are completely null, that is why they will be dropped.\n",
        "data.isnull().sum().sort_values()"
      ],
      "metadata": {
        "colab": {
          "base_uri": "https://localhost:8080/"
        },
        "id": "aREqeZ8oB1QY",
        "outputId": "4b97b857-c32a-4d5e-ca5d-1bfbe57a0b2f"
      },
      "execution_count": null,
      "outputs": [
        {
          "output_type": "execute_result",
          "data": {
            "text/plain": [
              "1.1.a.1 Date of Current Survey                                         0\n",
              "Reported Date                                                          0\n",
              "Country                                                                0\n",
              "Country Code                                                           0\n",
              "Province                                                               0\n",
              "                                                                    ... \n",
              "Enter other number 3 occupation/trade of the majority of TDP hhs    6368\n",
              "Enter other number 2 occupation/trade of the majority of TDP hhs    6368\n",
              "Enter other number 1 occupation/trade of the majority of TDP hhs    6368\n",
              "Enter other protection concern(s) in the village                    6368\n",
              "Enter other number 1 most immediate food need                       6368\n",
              "Length: 340, dtype: int64"
            ]
          },
          "metadata": {},
          "execution_count": 15
        }
      ]
    },
    {
      "cell_type": "markdown",
      "source": [
        "**DATA** **CLEANING**"
      ],
      "metadata": {
        "id": "P4t5ZcxmrsxD"
      }
    },
    {
      "cell_type": "code",
      "source": [
        "#true_sum=pd.DataFrame(data.isnull().sum().sort_values()==6368)"
      ],
      "metadata": {
        "id": "t6UWDqrCEo9T"
      },
      "execution_count": null,
      "outputs": []
    },
    {
      "cell_type": "code",
      "source": [
        "#true_sum[true_sum[0]==True].sum()"
      ],
      "metadata": {
        "id": "sz0FLI-Z_u2p"
      },
      "execution_count": null,
      "outputs": []
    },
    {
      "cell_type": "code",
      "source": [
        "# delete colums which contain only null values\n",
        "data.dropna(how='all', axis=1, inplace=True)"
      ],
      "metadata": {
        "id": "ObBzdwVxJu4U"
      },
      "execution_count": null,
      "outputs": []
    },
    {
      "cell_type": "code",
      "source": [
        "# check culums and rows\n",
        "data.shape"
      ],
      "metadata": {
        "colab": {
          "base_uri": "https://localhost:8080/"
        },
        "id": "Cr2pSHZNJ9m9",
        "outputId": "e8867575-d4cb-4ce7-e91b-962427588f27"
      },
      "execution_count": null,
      "outputs": [
        {
          "output_type": "execute_result",
          "data": {
            "text/plain": [
              "(6368, 320)"
            ]
          },
          "metadata": {},
          "execution_count": 19
        }
      ]
    },
    {
      "cell_type": "code",
      "source": [
        "#delete useless columns\n",
        "data.drop(labels=[\"Any additional comments\",\t\"_submission_time\",\n",
        "                  \"_submitted_by\",\t\"_index\"], axis=1, inplace=True)"
      ],
      "metadata": {
        "id": "MCv5pTt_NIgN"
      },
      "execution_count": null,
      "outputs": []
    },
    {
      "cell_type": "code",
      "source": [
        "#delete useless columns\n",
        "data.drop(labels=[\"1.1.a.1 Date of Current Survey\",\n",
        "                  \"1.1.a.2 Survey Round\",\t\"Reported Date\",\n",
        "                  \"Country\",\t\"Country Code\"], axis=1, inplace=True)"
      ],
      "metadata": {
        "id": "L0RS7cbEPkVs"
      },
      "execution_count": null,
      "outputs": []
    },
    {
      "cell_type": "code",
      "source": [
        "#delete useless columns\n",
        "data.drop(labels=[\"Province Pcode\",\n",
        "                  \"District Pcode\"], axis=1, inplace=True)"
      ],
      "metadata": {
        "id": "Sz04RnQuTtLi"
      },
      "execution_count": null,
      "outputs": []
    },
    {
      "cell_type": "code",
      "source": [
        "#delete useless columns\n",
        "data.drop(labels=[\"Mouza/Deh\",\n",
        "                  \"Enter New Village\", \"New Village ID (VID)\",\n",
        "                  \"Village ID (VID)\"], axis=1, inplace=True)"
      ],
      "metadata": {
        "id": "4Di0A0OZH3gR"
      },
      "execution_count": null,
      "outputs": []
    },
    {
      "cell_type": "code",
      "source": [
        "#delete useless columns\n",
        "data.drop(labels=[\"Tehsil\",\n",
        "                  \"Union Council\"], axis=1, inplace=True)"
      ],
      "metadata": {
        "id": "mDRpslh7q-4p"
      },
      "execution_count": null,
      "outputs": []
    },
    {
      "cell_type": "code",
      "source": [
        "#delete useless columns\n",
        "#data.drop(labels=[\"Enter New Union Council\",\n",
        "                  #\"Enter New Mouza\"], axis=1, inplace=True)"
      ],
      "metadata": {
        "id": "67l2Us6irU0M"
      },
      "execution_count": null,
      "outputs": []
    },
    {
      "cell_type": "code",
      "source": [
        "# delete first raw as it contains only null value\n",
        "data=data.drop(0)"
      ],
      "metadata": {
        "id": "zF-egD77uzum"
      },
      "execution_count": null,
      "outputs": []
    },
    {
      "cell_type": "code",
      "source": [
        "# reset a new index\n",
        "data.reset_index(drop=True, inplace=True)"
      ],
      "metadata": {
        "id": "ndjevqjNvTqT"
      },
      "execution_count": null,
      "outputs": []
    },
    {
      "cell_type": "code",
      "source": [
        "# Rename column of Select the number of Respondent(s) to Number of Respondents\n",
        "data.rename(columns={\"Select the number of Respondent(s)\":\"Number of Respondents\"}, inplace=True)"
      ],
      "metadata": {
        "id": "wf9mzgkmsila"
      },
      "execution_count": null,
      "outputs": []
    },
    {
      "cell_type": "code",
      "source": [
        "#Change type of column\n",
        "data[\"Number of Respondents\"]=data[\"Number of Respondents\"].astype(int)"
      ],
      "metadata": {
        "id": "yJoWnaPEuDFl"
      },
      "execution_count": null,
      "outputs": []
    },
    {
      "cell_type": "code",
      "source": [
        "#Change column name\n",
        "data.rename(columns={\"What is the best way to reach this village currently?\":\"Best way to reach village\"}, inplace=True)"
      ],
      "metadata": {
        "id": "UrEE-0Qixj2y"
      },
      "execution_count": null,
      "outputs": []
    },
    {
      "cell_type": "code",
      "source": [
        "# check unique values\n",
        "data[\"Best way to reach village\"].unique()"
      ],
      "metadata": {
        "colab": {
          "base_uri": "https://localhost:8080/"
        },
        "id": "CJhUm-9KyVKD",
        "outputId": "633d6238-7d60-4689-fab3-aa61c89d27d3"
      },
      "execution_count": null,
      "outputs": [
        {
          "output_type": "execute_result",
          "data": {
            "text/plain": [
              "array(['By car', 'By motorcycle', 'By four-wheel drive (4WD)', 'By foot',\n",
              "       'by car'], dtype=object)"
            ]
          },
          "metadata": {},
          "execution_count": 31
        }
      ]
    },
    {
      "cell_type": "code",
      "source": [
        "# Correct unique values\n",
        "data[\"Best way to reach village\"]=data[\"Best way to reach village\"].str.replace(\"by car\", \"By car\", regex=True)"
      ],
      "metadata": {
        "id": "p6zJD9gTzSpI"
      },
      "execution_count": null,
      "outputs": []
    },
    {
      "cell_type": "code",
      "source": [
        "# Correct unique values\n",
        "data[\"Best way to reach village\"]=data[\"Best way to reach village\"].replace(\"By four-wheel drive (4WD)\", \"By car\")"
      ],
      "metadata": {
        "id": "bJjIze7y0W7s"
      },
      "execution_count": null,
      "outputs": []
    },
    {
      "cell_type": "code",
      "source": [
        "#Change column name\n",
        "data.rename(columns={\"Are there any TDPs in this village at the moment?\":\"TPDs in Village\"}, inplace=True)"
      ],
      "metadata": {
        "id": "IUueD0aA1m-Y"
      },
      "execution_count": null,
      "outputs": []
    },
    {
      "cell_type": "code",
      "source": [
        "#Change column name\n",
        "data.rename(columns={\"Number of TDP households living in buildings – formal relief sites (i.e. schools)\":\"Number of TDP households living in buildings – formal relief sites\",\n",
        "                     \"Number of TDP households living in buildings – informal relief sites (i.e. public buildings)\": \"Number of TDP households living in buildings – informal relief sites\",\n",
        "                     \"Number of TDP households living in temporary structures (i.e. tents)\":\"Number of TDP households living in temporary structures\"}, inplace=True)"
      ],
      "metadata": {
        "id": "0sjSakzV4Z_4"
      },
      "execution_count": null,
      "outputs": []
    },
    {
      "cell_type": "code",
      "source": [
        "#Change column name\n",
        "data.columns=data.columns.str.replace(\"tdp_shelters_calculate\", \"tdp shelters\")"
      ],
      "metadata": {
        "id": "AlCfiHtW_adX"
      },
      "execution_count": null,
      "outputs": []
    },
    {
      "cell_type": "code",
      "source": [
        "# Change data type\n",
        "data[\"Number of TDP households living with the host community\"]=data[\"Number of TDP households living with the host community\"].astype('Int64')\n",
        "data[\"Number of TDP households living in buildings – formal relief sites\"]=data[\"Number of TDP households living in buildings – formal relief sites\"].astype('Int64')\n",
        "data[\"Number of TDP households living in buildings – informal relief sites\"]=data[\"Number of TDP households living in buildings – informal relief sites\"].astype('Int64')\n",
        "data[\"Number of TDP households living in temporary structures\"]=data[\"Number of TDP households living in temporary structures\"].astype('Int64')\n",
        "data[\"Number of TDP households living in open spaces\"]=data[\"Number of TDP households living in open spaces\"].astype('Int64')\n",
        "data[\"tdp shelters\"]=data[\"tdp shelters\"].astype('Int64')"
      ],
      "metadata": {
        "id": "kIUDM2ek83M-"
      },
      "execution_count": null,
      "outputs": []
    },
    {
      "cell_type": "code",
      "source": [
        "## Change column names related to Assistance\n",
        "data.rename(columns={\"Has the village received any assistance since the flood?\": \"Received Assistance\",\n",
        "                     \"If yes, what assistance has the community received?/Food\": \"Food\",\n",
        "                     \"If yes, what assistance has the community received?/Clean and safe drinking water\":\"Water for drinking\",\n",
        "                     \"If yes, what assistance has the community received?/Water for washing\":\"Water for washing\",\n",
        "                     \"If yes, what assistance has the community received?/NFIs (Emergency Shelter kits)\": \"Emergency Shelter kits\",\n",
        "                     \"If yes, what assistance has the community received?/NFIs (household items)\": \"Household items\",\n",
        "                     \"If yes, what assistance has the community received?/NFIs (WASH kits)\": \"WASH kits\",\n",
        "                     \"If yes, what assistance has the community received?/NFIs (dignity kits)\": \"Dignity kits\",\n",
        "                     \"If yes, what assistance has the community received?/Shelter repair kit (Partially Damaged)\": \"Shelter repair kit\",\n",
        "                     \"If yes, what assistance has the community received?/Shelter reconstruction (Fully Destroyed)\": \"Shelter reconstruction\",\n",
        "                     \"If yes, what assistance has the community received?/Livelihoods\": \"Livelihoods\",\n",
        "                     \"If yes, what assistance has the community received?/Healthcare services\": \"Healthcare services\",\n",
        "                     \"If yes, what assistance has the community received?/Medicine\": \"Medicine\",\n",
        "                     \"If yes, what assistance has the community received?/Psychosocial support\": \"Psychosocial suppor\",\n",
        "                     \"If yes, what assistance has the community received?/Education services\" : \"Education services\",\n",
        "                     \"If yes, what assistance has the community received?/Road clearance\": \"Road clearance\",\n",
        "                     \"If yes, what assistance has the community received?/Debris clearance\": \" Debris clearance\",\n",
        "                     \"If yes, what assistance has the community received?/Family tracing\": \"Family tracing\",\n",
        "                     \"If yes, what assistance has the community received?/Reissuance of land/property documents\": \"Reissue land/property documents\",\n",
        "                     \"If yes, what assistance has the community received?/Reissuance of IDs\": \"Reissue of IDs\",\n",
        "                     \"If yes, what assistance has the community received?/Other\": \"Other\",\n",
        "                     \"If yes, what assistance has the community received?/Seeds for farming (IM GENERATED)\": \"Seeds for farming\",\n",
        "                     \"If yes, what assistance has the community received?/Cash Assistance (IM GENERATED)\": \"Cash Assistance\",\n",
        "                     \"If yes, are people in this village satisfied with the assistance they have received?\": \"Satisified with Assistance\"\n",
        "                     }, inplace=True)"
      ],
      "metadata": {
        "id": "zBDwk3asuPHz"
      },
      "execution_count": null,
      "outputs": []
    },
    {
      "cell_type": "code",
      "source": [
        "# delete useless columns related to received assistance\n",
        "data.drop(labels=[\"If yes, what assistance has the community received?\", \"Enter other assistance received by the community\"], axis=1, inplace=True)"
      ],
      "metadata": {
        "id": "gqhzC3M46NWg"
      },
      "execution_count": null,
      "outputs": []
    },
    {
      "cell_type": "code",
      "source": [
        "#change names of the columns related to barriers in assistance\n",
        "data.rename(columns={\"If yes, which population groups face additional barriers in accessing assistance or services (e.g. food distribution, education, healthcare etc)?/Women\":\n",
        "                      \"Barriers in Assistance for Women\",\n",
        "            \"If yes, which population groups face additional barriers in accessing assistance or services (e.g. food distribution, education, healthcare etc)?/Boys\":\n",
        "             \"Barries in Assistance for Boys\",\n",
        "                \"If yes, which population groups face additional barriers in accessing assistance or services (e.g. food distribution, education, healthcare etc)?/Girls\":\n",
        "                \"Barriers in Assistance for Girls\",\n",
        "                  \"If yes, which population groups face additional barriers in accessing assistance or services (e.g. food distribution, education, healthcare etc)?/Persons with disabilities\":\n",
        "                    \"Barriers in Asistance for People with Disabilities\",\n",
        "             \"If yes, which population groups face additional barriers in accessing assistance or services (e.g. food distribution, education, healthcare etc)?/Elderly\":\n",
        "             \"Barriers in Assistance for Elderly\",\n",
        "              \"If yes, which population groups face additional barriers in accessing assistance or services (e.g. food distribution, education, healthcare etc)?/Third gender\":\n",
        "                      \"Barrier in Assistance for Third gender\",\n",
        "                   \"If yes, which population groups face additional barriers in accessing assistance or services (e.g. food distribution, education, healthcare etc)?/Other\":\n",
        "                      \"Barrier in Assistance for Other\",\n",
        "                      \"If yes, which population groups face additional barriers in accessing assistance or services (e.g. food distribution, education, healthcare etc)?None (IM GENERATED)\":\n",
        "                      \"No Barrier in Assistance\"}, inplace=True)"
      ],
      "metadata": {
        "id": "mIUP-yik7O0H"
      },
      "execution_count": null,
      "outputs": []
    },
    {
      "cell_type": "code",
      "source": [
        "#delete useles columns related to barriers in assistance\n",
        "data.drop(labels=[\"If yes, which population groups face additional barriers in accessing assistance or services (e.g. food distribution, education, healthcare etc)?\",\n",
        "                  \"Enter other population groups facing additional barriers in accessing assistance or services\"], axis=1, inplace=True)"
      ],
      "metadata": {
        "id": "lWKiQywTBxNk"
      },
      "execution_count": null,
      "outputs": []
    },
    {
      "cell_type": "code",
      "source": [
        "# change names of columns related to needs\n",
        "data.rename(columns={\"Number 1 need of TDPs in this village\": \"Need Number 1\",\n",
        "                     \"Number 2 need of TDPs in this village\": \"Need Number 2\",\n",
        "                     \"Number 3 need of TDPs in this village\":\"Need Number 3\"}, inplace=True)"
      ],
      "metadata": {
        "id": "u6a_parvI464"
      },
      "execution_count": null,
      "outputs": []
    },
    {
      "cell_type": "code",
      "source": [
        "# Correct unique columns in Need Number 1\n",
        "for x in data.index:\n",
        "  if data.loc[x, \"Need Number 1\"]==\"Clean and safe drinking water\":\n",
        "    data.loc[x, \"Need Number 1\"]=\"Drinking water\"\n",
        "  elif data.loc[x, \"Need Number 1\"]==\"NFIs (Emergency Shelter kits)\":\n",
        "    data.loc[x, \"Need Number 1\"]==\"Emergency Shelter kits\"\n",
        "  elif data.loc[x, \"Need Number 1\"]==\"'NFIs (household items)\":\n",
        "    data.loc[x, \"Need Number 1\"]=\"Household items\"\n",
        "  elif data.loc[x, \"Need Number 1\"]==\"Shelter repair kit (Partially Damaged)\":\n",
        "     data.loc[x, \"Need Number 1\"]=\"Shelter repair kit\"\n",
        "  elif data.loc[x, \"Need Number 1\"]==\"Shelter reconstruction (Fully Destroyed)\":\n",
        "     data.loc[x, \"Need Number 1\"]=\"Shelter reconstruction\"\n",
        "  elif data.loc[x, \"Need Number 1\"]==\"NFIs (dignity kits)\":\n",
        "     data.loc[x, \"Need Number 1\"]=\"Dignity kits\"\n",
        "  elif data.loc[x, \"Need Number 1\"]==\"NFIs (WASH kits)\":\n",
        "     data.loc[x, \"Need Number 1\"]=\"WASH kits\"\n"
      ],
      "metadata": {
        "id": "Z6LR-2nXItS5"
      },
      "execution_count": null,
      "outputs": []
    },
    {
      "cell_type": "code",
      "source": [
        "# Correct unique values in Need Number 2\n",
        "for x in data.index:\n",
        "  if data.loc[x, \"Need Number 2\"]==\"NFIs (Emergency Shelter kits)\":\n",
        "    data.loc[x, \"Need Number 2\"]==\"Emergency Shelter kits\"\n",
        "  elif data.loc[x, \"Need Number 2\"]==\"'NFIs (household items)\":\n",
        "    data.loc[x, \"Need Number 2\"]=\"Household items\"\n",
        "  elif data.loc[x, \"Need Number 2\"]==\"Shelter repair kit (Partially Damaged)\":\n",
        "     data.loc[x, \"Need Number 2\"]=\"Shelter repair kit\"\n",
        "  elif data.loc[x, \"Need Number 2\"]==\"Shelter reconstruction (Fully Destroyed)\":\n",
        "     data.loc[x, \"Need Number 2\"]=\"Shelter reconstruction\"\n",
        "  elif data.loc[x, \"Need Number 2\"]==\"NFIs (dignity kits)\":\n",
        "     data.loc[x, \"Need Number 2\"]=\"Dignity kits\"\n",
        "  elif data.loc[x, \"Need Number 2\"]==\"NFIs (WASH kits)\":\n",
        "     data.loc[x, \"Need Number 2\"]=\"WASH kits\"\n",
        "  elif data.loc[x, \"Need Number 2\"]==\"Reissuance of land/property documents\":\n",
        "     data.loc[x, \"Need Number 2\"]=\"Reissue land/property documents\""
      ],
      "metadata": {
        "id": "86RsY7xBNqOu"
      },
      "execution_count": null,
      "outputs": []
    },
    {
      "cell_type": "code",
      "source": [
        "data[\"Need Number 3\"].unique()"
      ],
      "metadata": {
        "colab": {
          "base_uri": "https://localhost:8080/"
        },
        "id": "oEBp2Q38OrYc",
        "outputId": "83efae78-5fd5-4152-ebdf-89877992c1e2"
      },
      "execution_count": null,
      "outputs": [
        {
          "output_type": "execute_result",
          "data": {
            "text/plain": [
              "array([nan, 'Shelter repair kit (Partially Damaged)', 'Livelihoods',\n",
              "       'NFIs (Emergency Shelter kits)', 'Debris clearance',\n",
              "       'Road clearance', 'Medicine', 'NFIs (household items)', 'Food',\n",
              "       'Healthcare services', 'Education services',\n",
              "       'Clean and safe drinking water',\n",
              "       'Shelter reconstruction (Fully Destroyed)', 'NFIs (dignity kits)',\n",
              "       'NFIs (WASH kits)', 'Water for washing', 'Psychosocial support',\n",
              "       'Reissuance of land/property documents',\n",
              "       'Legal counselling /assistance', 'Family tracing',\n",
              "       'Sanitation Services', 'None'], dtype=object)"
            ]
          },
          "metadata": {},
          "execution_count": 45
        }
      ]
    },
    {
      "cell_type": "code",
      "source": [
        "# Correct unique values in Need Number 2\n",
        "for x in data.index:\n",
        "  if data.loc[x, \"Need Number 2\"]==\"NFIs (Emergency Shelter kits)\":\n",
        "    data.loc[x, \"Need Number 2\"]==\"Emergency Shelter kits\"\n",
        "  elif data.loc[x, \"Need Number 2\"]==\"'NFIs (household items)\":\n",
        "    data.loc[x, \"Need Number 2\"]=\"Household items\"\n",
        "  elif data.loc[x, \"Need Number 2\"]==\"Shelter repair kit (Partially Damaged)\":\n",
        "     data.loc[x, \"Need Number 2\"]=\"Shelter repair kit\"\n",
        "  elif data.loc[x, \"Need Number 2\"]==\"Shelter reconstruction (Fully Destroyed)\":\n",
        "     data.loc[x, \"Need Number 2\"]=\"Shelter reconstruction\"\n",
        "  elif data.loc[x, \"Need Number 2\"]==\"NFIs (dignity kits)\":\n",
        "     data.loc[x, \"Need Number 2\"]=\"Dignity kits\"\n",
        "  elif data.loc[x, \"Need Number 2\"]==\"NFIs (WASH kits)\":\n",
        "     data.loc[x, \"Need Number 2\"]=\"WASH kits\"\n",
        "  elif data.loc[x, \"Need Number 2\"]==\"Reissuance of land/property documents\":\n",
        "     data.loc[x, \"Need Number 2\"]=\"Reissue land/property documents\""
      ],
      "metadata": {
        "id": "sVrkQvNMO0Rd"
      },
      "execution_count": null,
      "outputs": []
    },
    {
      "cell_type": "code",
      "source": [
        "#Change column names related host community\n",
        "data.rename(columns={\"Number of host community members (individuals) – excluding TDPs\": \"Individual Community Member\",\n",
        "            \"Number of host community members (households) – excluding TDPs\": \"Household Community Member\",\n",
        "              \"HH Size Host Community (excluding TDPs of this village)\": \"Size Host Community\"}, inplace=True)"
      ],
      "metadata": {
        "id": "WjAN_Jf9Qvcl"
      },
      "execution_count": null,
      "outputs": []
    },
    {
      "cell_type": "code",
      "source": [
        "#Change column types\n",
        "data[\"Individual Community Member\"]=data[\"Individual Community Member\"].astype(int)\n",
        "data[\"Household Community Member\"]=data[\"Household Community Member\"].astype(int)\n",
        "data[\"Size Host Community\"]=data[\"Size Host Community\"].astype(int)"
      ],
      "metadata": {
        "id": "P1cBQNq4Ro_8"
      },
      "execution_count": null,
      "outputs": []
    },
    {
      "cell_type": "code",
      "source": [
        "#Change name columns related to TDPs number\n",
        "data.rename(columns={\"Number of temporarily displaced persons (TDPs) (individuals)\": \"TDPs individuals\",\n",
        "                     \"Number of temporarily displaced persons (TDPs) (households)\": \"TDPs households\",\n",
        "                     \"HH Size TDPs\": \"Size TDPs\"}, inplace=True)"
      ],
      "metadata": {
        "id": "uqp77iWiUEk8"
      },
      "execution_count": null,
      "outputs": []
    },
    {
      "cell_type": "code",
      "source": [
        "data.rename(columns={\"Is there a gender and age breakdown of the TDP population?\":\"Age breakdown of TDPs\"}, inplace=True)"
      ],
      "metadata": {
        "id": "TzSiHAvfVtqO"
      },
      "execution_count": null,
      "outputs": []
    },
    {
      "cell_type": "code",
      "source": [
        "data.rename(columns={\"Infants(0 - 4 y) -male\": \"Infants male\",\n",
        "                     \"Children (5 - 14 y)- male\": \"Children male\",\n",
        "                     \"Youth (15 - 17 y)- male\":\"Youth male\",\n",
        "                     \"Adults (18 - 59 y)- male\": \"Adults male\",\n",
        "                     \"Elderly (60+ y)- male\": \"Elderly male\",\n",
        "                     \"Infants(0 - 4 y)- female\": \"Infants female\",\n",
        "                     \"Children (5 - 14 y)- female\": \"Children female\",\n",
        "                     \"Youth (15 - 17 y)- female\":\"Youth female\",\n",
        "                     \"Adults (18 - 59 y)- female\": \"Adults female\",\n",
        "                     \"Elderly (60+ y)- female\": \"Elderly female\",\n",
        "                     \"Infants(0 - 4 y)- TG\": \"Infants TG\",\n",
        "                     \"Children (5 - 14 y)- TG\": \"Children TG\",\n",
        "                     \"Youth (15 - 17 y)- TG\": \"Youth TG\",\n",
        "                     \"Adults (18 - 59 y)- TG\": \"Adults TG\",\n",
        "                     \"Elderly (60+ y)- TG\": \"Elderly TG\"\n",
        "\n",
        "    }, inplace=True)"
      ],
      "metadata": {
        "id": "qYG9J611X2Tq"
      },
      "execution_count": null,
      "outputs": []
    },
    {
      "cell_type": "code",
      "source": [
        "#Change data type in the columns related to Age\n",
        "data[\"Infants male\"]=data[\"Infants male\"].astype(\"Int64\")\n",
        "data[\"Children male\"]=data[\"Children male\"].astype(\"Int64\")\n",
        "data[\"Youth male\"]=data[\"Youth male\"].astype(\"Int64\")\n",
        "data[\"Adults male\"]=data[\"Adults male\"].astype(\"Int64\")\n",
        "data[\"Elderly male\"]=data[\"Elderly male\"].astype(\"Int64\")\n",
        "data[\"Infants female\"]=data[\"Infants female\"].astype(\"Int64\")\n",
        "data[\"Children female\"]=data[\"Children female\"].astype(\"Int64\")\n",
        "data[\"Youth female\"]=data[\"Youth female\"].astype(\"Int64\")\n",
        "data[\"Adults female\"]=data[\"Adults female\"].astype(\"Int64\")\n",
        "data[\"Elderly female\"]=data[\"Elderly female\"].astype(\"Int64\")\n",
        "data[\"Infants TG\"]=data[\"Infants TG\"].astype(\"Int64\")\n",
        "data[\"Children TG\"]=data[\"Children TG\"].astype(\"Int64\")\n",
        "data[\"Youth TG\"]=data[\"Youth TG\"].astype(\"Int64\")\n",
        "data[\"Adults TG\"]=data[\"Elderly TG\"].astype(\"Int64\")\n",
        "data[\"Elderly TG\"]=data[\"Elderly TG\"].astype(\"Int64\")"
      ],
      "metadata": {
        "id": "oBZOxgD5bPQ9"
      },
      "execution_count": null,
      "outputs": []
    },
    {
      "cell_type": "code",
      "source": [
        "data.rename(columns={\"No. of TDPs (individuals) - information on the largest TDP group\": \"No. of individual TDPs of largest TDP group\",\n",
        "                     \"No. of TDPs (individuals) - 2nd largest TDP group\":\"No. of individuals TDPs of 2nd largest TDP group\",\n",
        "                     \"No. of TDP households - 2nd largest TDP group \": \"No. of TDP households of 2nd largest TDP group\" }, inplace=True)"
      ],
      "metadata": {
        "id": "VQ1aMgytMckh"
      },
      "execution_count": null,
      "outputs": []
    },
    {
      "cell_type": "code",
      "source": [
        "data.drop(labels=[\"Tehsil.1\", \"Enter New Tehsil\", \"Union Council.1\", \"Mouza\",\n",
        "                  \"Enter New District.1\", \"Tehsil.2\", \"Enter New Tehsil.1\",\n",
        "                  \"Union Council.2\", \"Mouza.1\" ], axis=1, inplace=True)"
      ],
      "metadata": {
        "id": "r7Pf9bVnGLik"
      },
      "execution_count": null,
      "outputs": []
    },
    {
      "cell_type": "code",
      "source": [
        "# Correct unique values in the column of Preferred way to come back\n",
        "for x in data.index:\n",
        "  if data.loc[x, \"If yes, what movement intention is most preferred by the TDPs?\" ]==\"return\":\n",
        "    data.loc[x, \"If yes, what movement intention is most preferred by the TDPs?\"]=\"Return\""
      ],
      "metadata": {
        "id": "rlGonG0TNNXz"
      },
      "execution_count": null,
      "outputs": []
    },
    {
      "cell_type": "code",
      "source": [
        "#data[\"If return, what needs most impact their ability to do so? AT MOST THREE OPTIONS\"].unique()"
      ],
      "metadata": {
        "id": "OWJM9clvM96z"
      },
      "execution_count": null,
      "outputs": []
    },
    {
      "cell_type": "code",
      "source": [
        "# Change name of columns related to Impact on return\n",
        "data.rename(columns={\"Are there temporarily displaced persons (TDPs) who were displaced due to the floods in 2022 but have now returned and are no longer displaced?\":\n",
        "                     \"TDPs in 2022 and no longer displaced\",\n",
        "                     \"Are there intentions amongst TDPs to return, relocate, or locally integrate?\":\"TDPs intent to return, relocate or integrate\",\n",
        "                     \"If yes, what movement intention is most preferred by the TDPs?\":\"Preferred way to come back\",\n",
        "                    \"If return, what needs most impact their ability to do so? AT MOST THREE OPTIONS\": \"Impact on return\",\n",
        "                     \"If return, what needs most impact their ability to do so? AT MOST THREE OPTIONS/Existing flood waters\":\"Existing flood waters\",\n",
        "                     \"If return, what needs most impact their ability to do so? AT MOST THREE OPTIONS/Inaccessibility due to flooded road\":\"Inaccessibility due to flooded road\",\n",
        "                     \"If return, what needs most impact their ability to do so? AT MOST THREE OPTIONS/Partially damaged houses\": \"Partially damaged houses\",\n",
        "                     \"If return, what needs most impact their ability to do so? AT MOST THREE OPTIONS/Destroyed houses\": \"Destroyed houses\",\n",
        "                     \"If return, what needs most impact their ability to do so? AT MOST THREE OPTIONS/Lack of food\": \"Lack of food\",\n",
        "                     \"If return, what needs most impact their ability to do so? AT MOST THREE OPTIONS/Loss of assets\" : \"Loss of assets\",\n",
        "                     \"If return, what needs most impact their ability to do so? AT MOST THREE OPTIONS/No livelihoods\": \"No livelihoods\",\n",
        "                     \"If return, what needs most impact their ability to do so? AT MOST THREE OPTIONS/Lack of basic infrastructure\": \"Lack of basic infrastructure\",\n",
        "                     \"If return, what needs most impact their ability to do so? AT MOST THREE OPTIONS/Lack of education service\": \"Lack of education service\",\n",
        "                     \"If return, what needs most impact their ability to do so? AT MOST THREE OPTIONS/Lack of health services\":\"Lack of health services\",\n",
        "                     \"If return, what needs most impact their ability to do so? AT MOST THREE OPTIONS/Lack of WASH services\":\"Lack of WASH services\",\n",
        "                     \"If return, what needs most impact their ability to do so? AT MOST THREE OPTIONS/Lack of access to water point\":\"Lack of access to water point\",\n",
        "                     \"If return, what needs most impact their ability to do so? AT MOST THREE OPTIONS/Loss of land\": \"Loss of land\",\n",
        "                     \"If return, what needs most impact their ability to do so? AT MOST THREE OPTIONS/Lack of access to land\":\"Lack of access to land\",\n",
        "                     \"If return, what needs most impact their ability to do so? AT MOST THREE OPTIONS/Dispute over land\":\"Dispute over land\",\n",
        "                     \"If return, what needs most impact their ability to do so? AT MOST THREE OPTIONS/Lack of land/property documents\": \"Lack of land/property documents\",\n",
        "                     \"If return, what needs most impact their ability to do so? AT MOST THREE OPTIONS/Lack of civil documents/IDs\": \"Lack of civil documents/IDs\"\n",
        "                     }, inplace=True)"
      ],
      "metadata": {
        "id": "QkuA4A4SJZvF"
      },
      "execution_count": null,
      "outputs": []
    },
    {
      "cell_type": "code",
      "source": [
        "data.drop(labels=[\"If return, what needs most impact their ability to do so? AT MOST THREE OPTIONS/Other\",\n",
        "                 \"If return, what needs most impact their ability to do so? AT MOST THREE OPTIONS/Nothing\"], axis=1, inplace=True)"
      ],
      "metadata": {
        "id": "yG0UxQeVj9H0"
      },
      "execution_count": null,
      "outputs": []
    },
    {
      "cell_type": "code",
      "source": [
        "# change column names related to shelter\n",
        "data.rename(columns={\"Number of shelters in this current village that are partially damaged?\": \"Number of partially damaged shelter in the village\",\n",
        "                     \"Number of shelters in this current village that are completely destroyed?\": \"Number of destroyed shelter in the village\",\n",
        "                     \"Number of shelters in TDPs’ place of origin that are partially damaged?\": \"Number of Partially damaged shelter in TDPs'place\",\n",
        "                     \"Number of shelters in TDPs’ place of origin that are completely destroyed?\": \"Number of completely destroyed shelter in TDPs'place\",\n",
        "                     \"3.8.m.1 Main concerns with current shelter?\":\"Main concerns with current shelter\",\n",
        "                     \"3.8.m.1 Main concerns with current shelter?/Overcrowded\":\"Overcrowded shelter\",\n",
        "                     \"3.8.m.1 Main concerns with current shelter?/Lack of security\": \"Lack of security in shelter\",\n",
        "                     \"3.8.m.1 Main concerns with current shelter?/Lack of privacy\": \"Lack of privacy in Shelter\",\n",
        "                     \"3.8.m.1 Main concerns with current shelter?/No light\": \"No light in Shelter\",\n",
        "                     \"3.8.m.1 Main concerns with current shelter?/Not waterproof\": \"Not waterproof in Shelter\",\n",
        "                     \"3.8.m.1 Main concerns with current shelter?/Not a concrete structure\": \"Not a concrete structure in Shelter\",\n",
        "                     \"3.8.m.1 Main concerns with current shelter?/Eviction\": \"Eviction in Shelter\",\n",
        "                     \"3.8.m.1 Main concerns with current shelter?/No ownership over shelter\":\"No ownership over shelter\",\n",
        "                     \"3.8.m.1 Main concerns with current shelter?/None\": \"Concerns are None\"}, inplace=True\n",
        "            )"
      ],
      "metadata": {
        "id": "oR6XL18ElRpr"
      },
      "execution_count": null,
      "outputs": []
    },
    {
      "cell_type": "code",
      "source": [
        "# Change data type of the column\n",
        "data[\"Number of needs\"]=data[\"Number of needs\"].astype(\"Int64\")"
      ],
      "metadata": {
        "id": "CaZF9PLWvCzi"
      },
      "execution_count": null,
      "outputs": []
    },
    {
      "cell_type": "code",
      "source": [
        "#delete useless column\n",
        "data.drop(labels=[\"Enter other source from where TDPs collect drinking water\"], axis=1, inplace=True)"
      ],
      "metadata": {
        "id": "PBOkcYgr3zY-"
      },
      "execution_count": null,
      "outputs": []
    },
    {
      "cell_type": "code",
      "source": [
        "# Rename columns name related to Needs\n",
        "data.rename(columns={\"3.7.j.1 Most needed NFI\": \"Most needed NFI\",\n",
        "                     \"3.8.q.1 Have the majority of TDP households received the most needed NFI since they were displaced?\": \"Received most needed NFI\",\n",
        "                     \"If yes, please indicate the date of the last distribution\": \"Date of the last distribution\",\n",
        "                     \"Where do most TDPs collect drinking water?\": \"The place where TDPs collect drinking water\",\n",
        "                     \"What challenges do TDPs face in accessing water?\": \"Far away\",\n",
        "                     \"What challenges do TDPs face in accessing water?/Fetching water is dangerous\":\"Fetching water is dangerous\",\n",
        "                     \"What challenges do TDPs face in accessing water?/Long waiting times at water points\": \"Long waiting times at water points\",\n",
        "                     \"What challenges do TDPs face in accessing water?/Water points are not functional\" : \"Water points are not functional\",\n",
        "                     \"What challenges do TDPs face in accessing water?/Not enough storage containers\": \"Not enough storage containers\",\n",
        "                     \"What challenges do TDPs face in accessing water?/Too expensive\": \"Too expensive\",\n",
        "                     \"What challenges do TDPs face in accessing water?/Not enough water points\": \"Not enough water points\",\n",
        "                     \"What challenges do TDPs face in accessing water?/Water has odour/smell\": \"What challenges do TDPs face in accessing water?/Water has odour/smell\",\n",
        "                     \"What challenges do TDPs face in accessing water?/Water is not available on the market\": \"Not available on the market\",\n",
        "                     \"What challenges do TDPs face in accessing water?/Don’t like taste / bad quality\":\"Bad Quality\",\n",
        "                     \"What challenges do TDPs face in accessing water?/Water has colour/suspended solids\": \"Suspended solids\",\n",
        "                     \"What challenges do TDPs face in accessing water?/None\": \"None\",\n",
        "                     \"What challenges do TDPs face in accessing water?/Don’t know\": \"Don’t know\",\n",
        "                     \"4.1.a.1 How far is the village's main water distribution point (walking, one-way)?\": \"Distance in village's main water distribution point\",\n",
        "                     \"4.1.c.2 On average, how long do TDPs queue for water?\": \"Time on queue for water\"\n",
        "\n",
        "                     }, inplace=True)"
      ],
      "metadata": {
        "id": "x5-Il-lgv1gh"
      },
      "execution_count": null,
      "outputs": []
    },
    {
      "cell_type": "code",
      "source": [
        "data[\"Total top 3 needs\"]=data[\"Total top 3 needs\"].astype(\"Int64\")"
      ],
      "metadata": {
        "id": "wN8tbyRxgi4a"
      },
      "execution_count": null,
      "outputs": []
    },
    {
      "cell_type": "code",
      "source": [
        "data.rename(columns={\"What challenges do TDPs face when accessing places they usually go to defecate?\": \"Challenges in accessing for defecating\",\n",
        "                     \"What challenges do TDPs face when accessing places they usually go to defecate?/Not enough facilities / too crowded\": \"Not enough facilities / too crowded\",\n",
        "                     \"What challenges do TDPs face when accessing places they usually go to defecate?/Facilities unclean / unhygienic\": \"/Facilities unclean / unhygienic\",\n",
        "                     \"What challenges do TDPs face when accessing places they usually go to defecate?/Lack of privacy\" :\"Lack of privacy\",\n",
        "                     \"What challenges do TDPs face when accessing places they usually go to defecate?/It’s not safe (during daylight)\": \"It’s not safe (during daylight)\",\n",
        "                     \"What challenges do TDPs face when accessing places they usually go to defecate?/Toilet is full\": \"Toilet is full\",\n",
        "                     \"What challenges do TDPs face when accessing places they usually go to defecate?/It’s not safe (when it is dark)\": \"It’s not safe (when it is dark)\",\n",
        "                     \"What challenges do TDPs face when accessing places they usually go to defecate?/Facilities are too far away\": \"Facilities are too far away\",\n",
        "                     \"What challenges do TDPs face when accessing places they usually go to defecate?/Facilities are difficult to reach (slippery, muddy, steep, flooded)\":\"Facilities are difficult to reach (slippery, muddy, steep, flooded)\",\n",
        "                     \"What challenges do TDPs face when accessing places they usually go to defecate?/Lack of separation between men / women\": \"Lack of separation between men / women\",\n",
        "                     \"What challenges do TDPs face when accessing places they usually go to defecate?/None\": \"None\"}, inplace=True)\n"
      ],
      "metadata": {
        "id": "NDHbH8TBhK8q"
      },
      "execution_count": null,
      "outputs": []
    },
    {
      "cell_type": "code",
      "source": [
        "data[\"Total top 3 answers\"]=data[\"Total top 3 answers\"].astype(\"Int64\")"
      ],
      "metadata": {
        "id": "fIjIpwbjlPZO"
      },
      "execution_count": null,
      "outputs": []
    },
    {
      "cell_type": "code",
      "source": [
        "data.rename(columns={\"Where does most TDPs go to defecate?\": \"Place to defecate\",\n",
        "                     \"Are there gender segregated latrines for men and women?\": \"Segregated latrines for men and women\"\n",
        "                    }, inplace=True)"
      ],
      "metadata": {
        "id": "ATqTvAaNmE8X"
      },
      "execution_count": null,
      "outputs": []
    },
    {
      "cell_type": "code",
      "source": [
        "# Change column names related to Food\n",
        "data.rename(columns={\"What is the most common way for TDPs to access food?\":\"Common way for TDPs to access food\",\n",
        "                     \"What is the 2nd most common way for TDPs to access food?\": \"2nd most common way for TDPs to access food\",\n",
        "                     \"When was the last time food was distributed on site?\":\"Last time food to be distributed\",\n",
        "                     \"For the last 30 days, how many times did households in the community receive food assistance (i.e. daily food packages, distribution of rice, wheat, dal etc, food baskets)?\":\"Number of receive food assistance\",\n",
        "                     \"5.1.a.4 What is the proportion of households that received food distribution/assistance in this village?\": \"proportion of households that received food distribution\",\n",
        "                     \"5.1.e.1 Do TDPs have access to a food market?\": \"Access to the market\",\n",
        "                     \"If yes, are food items available in the market?\": \"Food items available in the market\"\n",
        "                     }, inplace=True)"
      ],
      "metadata": {
        "id": "43bPT0N0m_B1"
      },
      "execution_count": null,
      "outputs": []
    },
    {
      "cell_type": "code",
      "source": [
        "data[\"Access to the market\"].unique()"
      ],
      "metadata": {
        "colab": {
          "base_uri": "https://localhost:8080/"
        },
        "id": "1o9v8asBtOng",
        "outputId": "19bd451d-96a5-4a4a-cc79-6f29f68516c5"
      },
      "execution_count": null,
      "outputs": [
        {
          "output_type": "execute_result",
          "data": {
            "text/plain": [
              "array([nan, 'Yes', 'No', 'Unknown'], dtype=object)"
            ]
          },
          "metadata": {},
          "execution_count": 68
        }
      ]
    },
    {
      "cell_type": "code",
      "source": [
        "data.drop(labels=[\"Enter other number 3 most immediate food need\"], axis=1, inplace=True)"
      ],
      "metadata": {
        "id": "Agztwsp_qE9y"
      },
      "execution_count": null,
      "outputs": []
    },
    {
      "cell_type": "code",
      "source": [
        "#Food related\n",
        "data.rename(columns={\"In the past one month, how often was there no food to eat in a majority of displaced households?\": \"No food to eat\"\n",
        "                     }, inplace=True)"
      ],
      "metadata": {
        "id": "zz6BeQgyqdD1"
      },
      "execution_count": null,
      "outputs": []
    },
    {
      "cell_type": "code",
      "source": [
        "data[\"7.2.b.1 Distance to functioning health facilities/services (one-way)\"].unique()"
      ],
      "metadata": {
        "colab": {
          "base_uri": "https://localhost:8080/"
        },
        "id": "_plfG14Qud_K",
        "outputId": "fab39919-dbf0-4f58-e342-57b05cf06404"
      },
      "execution_count": null,
      "outputs": [
        {
          "output_type": "execute_result",
          "data": {
            "text/plain": [
              "array(['3km and above', 'Unknown', '<500m', '1-2km', '2-3km', '500m-1km'],\n",
              "      dtype=object)"
            ]
          },
          "metadata": {},
          "execution_count": 71
        }
      ]
    },
    {
      "cell_type": "code",
      "source": [
        "for x in data.index:\n",
        "  if data.loc[x, \"7.2.b.1 Distance to functioning health facilities/services (one-way)\"]==\"3km and above\":\n",
        "    data.loc[x, \"7.2.b.1 Distance to functioning health facilities/services (one-way)\"]= \" 3 km and above\"\n",
        "  elif data.loc[x, \"7.2.b.1 Distance to functioning health facilities/services (one-way)\"]==\"<500m\":\n",
        "    data.loc[x, \"7.2.b.1 Distance to functioning health facilities/services (one-way)\"]= \"more than 500 m\"\n",
        "  elif data.loc[x, \"7.2.b.1 Distance to functioning health facilities/services (one-way)\"]==\"1-2km\":\n",
        "    data.loc[x, \"7.2.b.1 Distance to functioning health facilities/services (one-way)\"]= \"1-2 km\"\n",
        "  elif data.loc[x, \"7.2.b.1 Distance to functioning health facilities/services (one-way)\"]==\"2-3km\":\n",
        "    data.loc[x, \"7.2.b.1 Distance to functioning health facilities/services (one-way)\"]= \"2-3 km\"\n",
        "  elif data.loc[x, \"7.2.b.1 Distance to functioning health facilities/services (one-way)\"]==\"500m-1km\":\n",
        "    data.loc[x, \"7.2.b.1 Distance to functioning health facilities/services (one-way)\"]= \"500 m-1 km\"\n",
        "\n"
      ],
      "metadata": {
        "id": "15uqQvqJuvrH"
      },
      "execution_count": null,
      "outputs": []
    },
    {
      "cell_type": "code",
      "source": [
        "# Change column names related to health\n",
        "data.rename(columns={\"7.1.b.1 Primary health concern\":\"Primary health concern\", \"Specify other primary health concern\":\"Other primary health concern\",\n",
        "                     \"7.2.a.1 Availability of health facility\": \"Availability of health facility\",\n",
        "                     \"7.2.b.1 Distance to functioning health facilities/services (one-way)\": \"Distance health services\",\n",
        "                     \"What is preventing most people from accessing healthcare services?\": \"Preventing most people from accessing healthcare services\",\n",
        "                     \"What is preventing most people from accessing healthcare services?/Cost/money\": \"Money\",\n",
        "                     \"What is preventing most people from accessing healthcare services?/No medicine\": \"No medicine\",\n",
        "                     \"What is preventing most people from accessing healthcare services?/Lack of medicine\": \"Lack of medicine\",\n",
        "                     \"What is preventing most people from accessing healthcare services?/Distance to health facility\":\"Distance to health facility\",\n",
        "                     \"What is preventing most people from accessing healthcare services?/No documentation/IDs\": \"No documentation/IDs\",\n",
        "                     \"What is preventing most people from accessing healthcare services?/Lack of medical personnel\": \"Lack of medical personnel\",\n",
        "                     \"What is preventing most people from accessing healthcare services?/Health facility has been damaged/destroyed\": \"Damaged Health facility\",\n",
        "                    \"What is preventing most people from accessing healthcare services?/Nothing\": \"Nothing\"}, inplace=True)\n"
      ],
      "metadata": {
        "id": "L6TJpJtdsgI8"
      },
      "execution_count": null,
      "outputs": []
    },
    {
      "cell_type": "code",
      "source": [
        "# change column names related to education\n",
        "data.rename(columns={\"8.6.a.1 Is there access to Alternative Basic Education (ABE)/temporary learning centers for displaced children?\":\"Access to Education\",\n",
        "                     \"Percent (%) of displaced children attending ABE/temporary learning centers?\":\"Percent of TDPs children attending ABE\",\n",
        "                     \"Access to primary schools (formal) for displaced children?\": \"Access to primary schools\",\n",
        "                     \"Percent (%) of displaced children attending primary schools (formal)?\": \"Percent of TDPs children in primary school\",\n",
        "                     \"What are the issues with accessing education services for displaced children?\": \"Issues with accessing education\",\n",
        "                     \"What are the issues with accessing education services for displaced children?/Distance\": \"Distance\",\n",
        "                     \"What are the issues with accessing education services for displaced children?/Cost\": \"Cost\",\n",
        "                     \"What are the issues with accessing education services for displaced children?/Unequal access because of status\": \"Unequal access because of status\",\n",
        "                     \"What are the issues with accessing education services for displaced children?/Unequal access based on gender\": \"Unequal access based on gender\",\n",
        "                     \"What are the issues with accessing education services for displaced children?/Poor education standards\": \"Poor education standards\",\n",
        "                     \"What are the issues with accessing education services for displaced children?/Lack of teachers\": \"Lack of teachers\",\n",
        "                     \"What are the issues with accessing education services for displaced children?/Poor infrastructure\": \"Poor infrastructure\",\n",
        "                     \"What are the issues with accessing education services for displaced children?/Damaged infrastructure due to the floods\": \"Damaged infrastructure due to the floods\",\n",
        "                     \"What are the issues with accessing education services for displaced children?/Lack of learning supplies\": \"Lack of learning supplies\",\n",
        "                     \"What are the issues with accessing education services for displaced children?/Lack of awareness of the benefits of education\": \"Lack of awareness of the benefits of education\",\n",
        "                     \"What are the issues with accessing education services for displaced children?/Lack of security\": \"Lack of security\",\n",
        "                     \"What are the issues with accessing education services for displaced children?/Lack of documentation/IDs\": \"Lack of documentation/IDs\",\n",
        "                     \"What are the issues with accessing education services for displaced children?/Other\": \"Other Issues\",\n",
        "                     \"What are the issues with accessing education services for displaced children?/No issues\": \"No Issues\"\n",
        "                     }, inplace=True)"
      ],
      "metadata": {
        "id": "-hhTHNyFyDiF"
      },
      "execution_count": null,
      "outputs": []
    },
    {
      "cell_type": "code",
      "source": [
        "# change column names related to Occupation\n",
        "data.rename(columns={\"Number 1 Occupation/trade of the majority of TDP households\": \"Occupation Number 1\",\n",
        "                     \"Number 2 Occupation/trade of the majority of TDP households\": \"Occupation Number 2\",\n",
        "                     \"Number 3 Occupation/trade of the majority of TDP households\": \"Occupation Number 3\"},\n",
        "                     inplace=True)"
      ],
      "metadata": {
        "id": "HYAiyS_f3lux"
      },
      "execution_count": null,
      "outputs": []
    },
    {
      "cell_type": "code",
      "source": [
        "#Correct unique values in Occupation column\n",
        "for x in data.index:\n",
        "  if data.loc[x, \"Occupation Number 1\"]==\"Farming (on owned land)\":\n",
        "    data.loc[x, \"Occupation Number 1\"]=\"Farming\"\n",
        "  elif data.loc[x, \"Occupation Number 1\"]==\"Farming (on rented land)\":\n",
        "    data.loc[x, \"Occupation Number 1\"]=\"Farming\"\n",
        "  elif data.loc[x, \"Occupation Number 1\"]==\"Farming (sharecropping)\":\n",
        "    data.loc[x, \"Occupation Number 1\"]=\"Farming\"\n",
        "  elif data.loc[x, \"Occupation Number 1\"]==\"Unskilled labour (i.e. construction, farm labour, cattle farm labour etc)\":\n",
        "    data.loc[x, \"Occupation Number 1\"]=\"Unskilled labour\"\n",
        "  elif data.loc[x, \"Occupation Number 1\"]==\"Government jobs (i.e. admin, health workers, teachers etc)\":\n",
        "    data.loc[x, \"Occupation Number 1\"]=\"Government jobs\"\n",
        "  elif data.loc[x, \"Occupation Number 1\"]==\"Skilled labour (i.e. electrician, tailor, mechanics etc.)\":\n",
        "    data.loc[x, \"Occupation Number 1\"]=\"Skilled labour\""
      ],
      "metadata": {
        "id": "Kvq2KxdqBSBP"
      },
      "execution_count": null,
      "outputs": []
    },
    {
      "cell_type": "code",
      "source": [
        "#Correct unique values in Occupation column\n",
        "for x in data.index:\n",
        "  if data.loc[x, \"Occupation Number 2\"]==\"Farming (on owned land)\":\n",
        "    data.loc[x, \"Occupation Number 2\"]=\"Farming\"\n",
        "  elif data.loc[x, \"Occupation Number 2\"]==\"Farming (on rented land)\":\n",
        "    data.loc[x, \"Occupation Number 2\"]=\"Farming\"\n",
        "  elif data.loc[x, \"Occupation Number 2\"]==\"Farming (sharecropping)\":\n",
        "    data.loc[x, \"Occupation Number 2\"]=\"Farming\"\n",
        "  elif data.loc[x, \"Occupation Number 2\"]==\"Unskilled labour (i.e. construction, farm labour, cattle farm labour etc)\":\n",
        "    data.loc[x, \"Occupation Number 2\"]=\"Unskilled labour\"\n",
        "  elif data.loc[x, \"Occupation Number 2\"]==\"Government jobs (i.e. admin, health workers, teachers etc)\":\n",
        "    data.loc[x, \"Occupation Number 2\"]=\"Government jobs\"\n",
        "  elif data.loc[x, \"Occupation Number 2\"]==\"Skilled labour (i.e. electrician, tailor, mechanics etc.)\":\n",
        "    data.loc[x, \"Occupation Number 2\"]=\"Skilled labour\""
      ],
      "metadata": {
        "id": "dlvNvu03DZRX"
      },
      "execution_count": null,
      "outputs": []
    },
    {
      "cell_type": "code",
      "source": [
        "#Correct unique values in Occupation column\n",
        "for x in data.index:\n",
        "  if data.loc[x, \"Occupation Number 3\"]==\"Farming (on owned land)\":\n",
        "    data.loc[x, \"Occupation Number 3\"]=\"Farming\"\n",
        "  elif data.loc[x, \"Occupation Number 3\"]==\"Farming (on rented land)\":\n",
        "    data.loc[x, \"Occupation Number 3\"]=\"Farming\"\n",
        "  elif data.loc[x, \"Occupation Number 3\"]==\"Farming (sharecropping)\":\n",
        "    data.loc[x, \"Occupation Number 3\"]=\"Farming\"\n",
        "  elif data.loc[x, \"Occupation Number 3\"]==\"Unskilled labour (i.e. construction, farm labour, cattle farm labour etc)\":\n",
        "    data.loc[x, \"Occupation Number 3\"]=\"Unskilled labour\"\n",
        "  elif data.loc[x, \"Occupation Number 3\"]==\"Government jobs (i.e. admin, health workers, teachers etc)\":\n",
        "    data.loc[x, \"Occupation Number 3\"]=\"Government jobs\"\n",
        "  elif data.loc[x, \"Occupation Number 3\"]==\"Skilled labour (i.e. electrician, tailor, mechanics etc.)\":\n",
        "    data.loc[x, \"Occupation Number 3\"]=\"Skilled labour\""
      ],
      "metadata": {
        "id": "q57BIMZkFGKB"
      },
      "execution_count": null,
      "outputs": []
    },
    {
      "cell_type": "code",
      "source": [
        "# Change column name related to income\n",
        "data.rename(columns={\"9.2.a.1 Percent (%) of displaced households who currently have a source of income?\": \"Percent of Income\"}, inplace=True)"
      ],
      "metadata": {
        "id": "gebmi-4IGKKA"
      },
      "execution_count": null,
      "outputs": []
    },
    {
      "cell_type": "code",
      "source": [
        "#Correct unique values in Occupation column\n",
        "for x in data.index:\n",
        "  if data.loc[x, \"Percent of Income\"]==\"51% - 75%\":\n",
        "    data.loc[x, \"Percent of Income\"]=\"51-75%\"\n",
        "  elif data.loc[x, \"Percent of Income\"]==\"26% – 50%\":\n",
        "    data.loc[x, \"Percent of Income\"]=\"26-50%\"\n"
      ],
      "metadata": {
        "id": "ESB1Mg5KH-gj"
      },
      "execution_count": null,
      "outputs": []
    },
    {
      "cell_type": "code",
      "source": [
        "# Change Column names related to assets\n",
        "data.rename(columns={\"9.2.j.1 What resources and assets were lost and/or damaged during displacement by the majority of the TDPs?\":\"lost and damaged assets\",\n",
        "                     \"9.2.j.1 What resources and assets were lost and/or damaged during displacement by the majority of the TDPs?/Cattle\": \"Cattle\",\n",
        "                     \"9.2.j.1 What resources and assets were lost and/or damaged during displacement by the majority of the TDPs?/Sheep\" : \"Sheep\",\n",
        "                     \"9.2.j.1 What resources and assets were lost and/or damaged during displacement by the majority of the TDPs?/Goat\": \"Goat\",\n",
        "                     \"9.2.j.1 What resources and assets were lost and/or damaged during displacement by the majority of the TDPs?/Donkey\": \"Donkey\",\n",
        "                     \"9.2.j.1 What resources and assets were lost and/or damaged during displacement by the majority of the TDPs?/Poultry\": \"Poultry\",\n",
        "                     \"9.2.j.1 What resources and assets were lost and/or damaged during displacement by the majority of the TDPs?/Camels\": \"Camels\",\n",
        "                     \"9.2.j.1 What resources and assets were lost and/or damaged during displacement by the majority of the TDPs?/Crops/seeds\": \"Crops/seeds\",\n",
        "                     \"9.2.j.1 What resources and assets were lost and/or damaged during displacement by the majority of the TDPs?/Businesses\": \"Business\",\n",
        "                     \"9.2.j.1 What resources and assets were lost and/or damaged during displacement by the majority of the TDPs?/House in place of origin\":\"House in place of origin\",\n",
        "                     \"9.2.j.1 What resources and assets were lost and/or damaged during displacement by the majority of the TDPs?/Land in place of origin\": \"Land in place of origin\",\n",
        "                     \"9.2.j.1 What resources and assets were lost and/or damaged during displacement by the majority of the TDPs?/Land/ property documentation\": \"Land/ property documentation\",\n",
        "                     \"9.2.j.1 What resources and assets were lost and/or damaged during displacement by the majority of the TDPs?/civil documents/ IDs\": \"Civil documents/ IDs\",\n",
        "                     \"9.2.j.1 What resources and assets were lost and/or damaged during displacement by the majority of the TDPs?/Unknown\": \"Unknown\",\n",
        "                     \"9.2.j.1 What resources and assets were lost and/or damaged during displacement by the majority of the TDPs?/None\" :\"None\"\n",
        "                     }, inplace=True)"
      ],
      "metadata": {
        "id": "zfUQamZwJvoY"
      },
      "execution_count": null,
      "outputs": []
    },
    {
      "cell_type": "code",
      "source": [
        "data.drop(labels=[\"9.2.j.1 What resources and assets were lost and/or damaged during displacement by the majority of the TDPs?/Other\"], axis=1, inplace=True)"
      ],
      "metadata": {
        "id": "IVjE6awZMyT_"
      },
      "execution_count": null,
      "outputs": []
    },
    {
      "cell_type": "code",
      "source": [
        "data.rename(columns={\"What are the main protection concerns in the village?\" : \"Main protection concerns\",\n",
        "                     \"What are the main protection concerns in the village?/Theft/robbery/looting\": \"Robbery\",\n",
        "                     \"What are the main protection concerns in the village?/Threats/intimidation\": \"Threats\",\n",
        "                     \"What are the main protection concerns in the village?/Physical violence\": \"Physical violence\",\n",
        "                     \"What are the main protection concerns in the village?/Extortion\": \"Extortion\",\n",
        "                     \"What are the main protection concerns in the village?/Harassment\": \"Harassment\",\n",
        "                     \"What are the main protection concerns in the village?/Domestic violence\": \"Domestic violence\",\n",
        "                     \"What are the main protection concerns in the village?/Violence against women and girls\": \"Violence against women and girls\",\n",
        "                     \"What are the main protection concerns in the village?/Violence against children\": \"Violence against children\",\n",
        "                     \"What are the main protection concerns in the village?/Human trafficking\": \"Human trafficking\",\n",
        "                     \"What are the main protection concerns in the village?/Forced labor\" : \"Forced labor\",\n",
        "                     \"What are the main protection concerns in the village?/Child marriage\": \"Child marriage\",\n",
        "                     \"What are the main protection concerns in the village?/Inter-communal dispute\": \"Inter-communal dispute\",\n",
        "                     \"What are the main protection concerns in the village?/Family separation\": \"Family separation\",\n",
        "                     \"What are the main protection concerns in the village?/Forced marriage\": \"Forced marriage\",\n",
        "                     \"What are the main protection concerns in the village?/No access to services\": \"No access to services\",\n",
        "                     \"What are the main protection concerns in the village?/Lack of lighting\": \"Lack of lighting\",\n",
        "                     \"What are the main protection concerns in the village?/Lack of safe spaces for women & girls\": \"Lack of safe spaces for women & girls\",\n",
        "                     \"What are the main protection concerns in the village?/Lack of safe spaces for children\" :\"Lack of safe spaces for children\",\n",
        "                     \"What are the main protection concerns in the village?/Lack of specialized services for elderly\": \"Lack of specialized services for elderly\",\n",
        "                     \"What are the main protection concerns in the village?/Lack of specialized services for persons with disabilities (mental/intellectual/physical\" : \"/Lack of specialized services for persons with disabilities\",\n",
        "                     \"What are the main protection concerns in the village?/Loss of land/property ownership documents\": \"Loss of land/property ownership documents\",\n",
        "                     \"What are the main protection concerns in the village?/Loss of ID/civil documents\": \"Loss of ID/civil documents\",\n",
        "                     \"What are the main protection concerns in the village?/Forced Eviction\" : \"Forced Eviction\",\n",
        "                     \"What are the main protection concerns in the village?/Treatment by aid workers\":\"Treatment by aid workers\",\n",
        "                     \"What are the main protection concerns in the village?/Other\" : \"Other\",\n",
        "                     \"What are the main protection concerns in the village?/None\" : \"None\"\n",
        "\n",
        "                  }, inplace=True)"
      ],
      "metadata": {
        "id": "wuMIUGefO_Rh"
      },
      "execution_count": null,
      "outputs": []
    },
    {
      "cell_type": "code",
      "source": [
        "#change column name related to Protection Services\n",
        "data.rename(columns={\"Which protection services are available and accessible to the community?\":\"Protection services\",\n",
        "                    \"Which protection services are available and accessible to the community?/Family tracing\": \"Family tracing\",\n",
        "                     \"Which protection services are available and accessible to the community?/Psychosocial support for other community members impacted by the floods\": \"Psychosocial support for people impacted by the floods\",\n",
        "                    \"Which protection services are available and accessible to the community?/Safe spaces for women and girls\": \"Safe spaces for women and girls\",\n",
        "                     \"Which protection services are available and accessible to the community?/Healthcare for women and girls\": \"Healthcare for women and girls\",\n",
        "                     \"Which protection services are available and accessible to the community?/Specialized services for elderly\":\"Specialized services for elderly\",\n",
        "                     \"Which protection services are available and accessible to the community?/Psychosocial support for women and girls\":\"Psychosocial support for women and girls\",\n",
        "                     \"Which protection services are available and accessible to the community?/Specialized services to persons with disabilities(mental/intellectual/physical)\": \"Services to persons with disabilities\",\n",
        "                     \"Which protection services are available and accessible to the community?/Safe places for separated and unaccompanied children\": \"Safe places for children\",\n",
        "                     \"Which protection services are available and accessible to the community?/Psychosocial support for separated and unaccompanied children\": \"Psychosocial support for children\",\n",
        "                     \"Which protection services are available and accessible to the community?/Places to renew civil documents and receive information on civil documents\": \"Places to renew civil documents and receive information on civil documents\",\n",
        "                     \"Which protection services are available and accessible to the community?/Places to renew land/property documents and receive info on land/ property documents\": \"Places to renew land/property documents and receive info on land/ property documents\",\n",
        "                     \"Which protection services are available and accessible to the community?/Legal assistance/counselling\": \"Legal assistance/counselling\",\n",
        "                     \"Which protection services are available and accessible to the community?/Other\": \"Other protection services\",\n",
        "                     \"Which protection services are available and accessible to the community?/None\": \"No protection services\",\n",
        "                     }, inplace=True)\n",
        "\n"
      ],
      "metadata": {
        "id": "c8SV0hXNTbDt"
      },
      "execution_count": null,
      "outputs": []
    },
    {
      "cell_type": "code",
      "source": [
        "data.rename(columns={\"Is there adequate lighting in the latrines?\":\"Lighting in the latrines\",\n",
        "                     \"Do organizations inform the community that all services/ assistance provided by humanitarian agencies are free and should not be exchanged for anything at all?\":\"Information about free services\",\n",
        "                     \"If there is misbehaviour, or something concerning in the behaviour of an aid worker, is there a system/ mechanism/ focal point that the community can use to complain?\": \"Place to complain\",\n",
        "                     \"Was the information provided by the different key informants matching?\": \"Information matching with different informants\",\n",
        "                     \"Was the information provided matching with your observations?\": \"Information matching with your observation\",\n",
        "                     \"Did the source of information have lists/records of TDPs?\": \"Records of TDPs\"},inplace=True)"
      ],
      "metadata": {
        "id": "FQvOLk5I_2dT"
      },
      "execution_count": null,
      "outputs": []
    },
    {
      "cell_type": "code",
      "source": [
        "data.iloc[0:4, 279:300]"
      ],
      "metadata": {
        "colab": {
          "base_uri": "https://localhost:8080/",
          "height": 236
        },
        "id": "Za68AmZawNfA",
        "outputId": "41a1a1ea-16af-4fe0-e3a6-52d13c3eb22c"
      },
      "execution_count": null,
      "outputs": [
        {
          "output_type": "execute_result",
          "data": {
            "text/plain": [
              "  Lighting in the latrines Information about free services Place to complain  \\\n",
              "0                       No                              No                No   \n",
              "1                       No                              No                No   \n",
              "2                       No                              No                No   \n",
              "3                       No                              No                No   \n",
              "\n",
              "  Information matching with different informants  \\\n",
              "0                                       Yes most   \n",
              "1                                       Yes most   \n",
              "2                                       Yes most   \n",
              "3                                      Only some   \n",
              "\n",
              "  Information matching with your observation Records of TDPs  \n",
              "0                                   Yes most       Only some  \n",
              "1                                   Yes most       Only some  \n",
              "2                                   Yes most        Yes most  \n",
              "3                                  Only some        Yes most  "
            ],
            "text/html": [
              "\n",
              "\n",
              "  <div id=\"df-8b73a3c7-708f-412a-a62d-eece482fc4c8\">\n",
              "    <div class=\"colab-df-container\">\n",
              "      <div>\n",
              "<style scoped>\n",
              "    .dataframe tbody tr th:only-of-type {\n",
              "        vertical-align: middle;\n",
              "    }\n",
              "\n",
              "    .dataframe tbody tr th {\n",
              "        vertical-align: top;\n",
              "    }\n",
              "\n",
              "    .dataframe thead th {\n",
              "        text-align: right;\n",
              "    }\n",
              "</style>\n",
              "<table border=\"1\" class=\"dataframe\">\n",
              "  <thead>\n",
              "    <tr style=\"text-align: right;\">\n",
              "      <th></th>\n",
              "      <th>Lighting in the latrines</th>\n",
              "      <th>Information about free services</th>\n",
              "      <th>Place to complain</th>\n",
              "      <th>Information matching with different informants</th>\n",
              "      <th>Information matching with your observation</th>\n",
              "      <th>Records of TDPs</th>\n",
              "    </tr>\n",
              "  </thead>\n",
              "  <tbody>\n",
              "    <tr>\n",
              "      <th>0</th>\n",
              "      <td>No</td>\n",
              "      <td>No</td>\n",
              "      <td>No</td>\n",
              "      <td>Yes most</td>\n",
              "      <td>Yes most</td>\n",
              "      <td>Only some</td>\n",
              "    </tr>\n",
              "    <tr>\n",
              "      <th>1</th>\n",
              "      <td>No</td>\n",
              "      <td>No</td>\n",
              "      <td>No</td>\n",
              "      <td>Yes most</td>\n",
              "      <td>Yes most</td>\n",
              "      <td>Only some</td>\n",
              "    </tr>\n",
              "    <tr>\n",
              "      <th>2</th>\n",
              "      <td>No</td>\n",
              "      <td>No</td>\n",
              "      <td>No</td>\n",
              "      <td>Yes most</td>\n",
              "      <td>Yes most</td>\n",
              "      <td>Yes most</td>\n",
              "    </tr>\n",
              "    <tr>\n",
              "      <th>3</th>\n",
              "      <td>No</td>\n",
              "      <td>No</td>\n",
              "      <td>No</td>\n",
              "      <td>Only some</td>\n",
              "      <td>Only some</td>\n",
              "      <td>Yes most</td>\n",
              "    </tr>\n",
              "  </tbody>\n",
              "</table>\n",
              "</div>\n",
              "      <button class=\"colab-df-convert\" onclick=\"convertToInteractive('df-8b73a3c7-708f-412a-a62d-eece482fc4c8')\"\n",
              "              title=\"Convert this dataframe to an interactive table.\"\n",
              "              style=\"display:none;\">\n",
              "\n",
              "  <svg xmlns=\"http://www.w3.org/2000/svg\" height=\"24px\"viewBox=\"0 0 24 24\"\n",
              "       width=\"24px\">\n",
              "    <path d=\"M0 0h24v24H0V0z\" fill=\"none\"/>\n",
              "    <path d=\"M18.56 5.44l.94 2.06.94-2.06 2.06-.94-2.06-.94-.94-2.06-.94 2.06-2.06.94zm-11 1L8.5 8.5l.94-2.06 2.06-.94-2.06-.94L8.5 2.5l-.94 2.06-2.06.94zm10 10l.94 2.06.94-2.06 2.06-.94-2.06-.94-.94-2.06-.94 2.06-2.06.94z\"/><path d=\"M17.41 7.96l-1.37-1.37c-.4-.4-.92-.59-1.43-.59-.52 0-1.04.2-1.43.59L10.3 9.45l-7.72 7.72c-.78.78-.78 2.05 0 2.83L4 21.41c.39.39.9.59 1.41.59.51 0 1.02-.2 1.41-.59l7.78-7.78 2.81-2.81c.8-.78.8-2.07 0-2.86zM5.41 20L4 18.59l7.72-7.72 1.47 1.35L5.41 20z\"/>\n",
              "  </svg>\n",
              "      </button>\n",
              "\n",
              "\n",
              "\n",
              "    <div id=\"df-24f64085-efba-473c-92d2-b2a2a2168cad\">\n",
              "      <button class=\"colab-df-quickchart\" onclick=\"quickchart('df-24f64085-efba-473c-92d2-b2a2a2168cad')\"\n",
              "              title=\"Suggest charts.\"\n",
              "              style=\"display:none;\">\n",
              "\n",
              "<svg xmlns=\"http://www.w3.org/2000/svg\" height=\"24px\"viewBox=\"0 0 24 24\"\n",
              "     width=\"24px\">\n",
              "    <g>\n",
              "        <path d=\"M19 3H5c-1.1 0-2 .9-2 2v14c0 1.1.9 2 2 2h14c1.1 0 2-.9 2-2V5c0-1.1-.9-2-2-2zM9 17H7v-7h2v7zm4 0h-2V7h2v10zm4 0h-2v-4h2v4z\"/>\n",
              "    </g>\n",
              "</svg>\n",
              "      </button>\n",
              "    </div>\n",
              "\n",
              "<style>\n",
              "  .colab-df-quickchart {\n",
              "    background-color: #E8F0FE;\n",
              "    border: none;\n",
              "    border-radius: 50%;\n",
              "    cursor: pointer;\n",
              "    display: none;\n",
              "    fill: #1967D2;\n",
              "    height: 32px;\n",
              "    padding: 0 0 0 0;\n",
              "    width: 32px;\n",
              "  }\n",
              "\n",
              "  .colab-df-quickchart:hover {\n",
              "    background-color: #E2EBFA;\n",
              "    box-shadow: 0px 1px 2px rgba(60, 64, 67, 0.3), 0px 1px 3px 1px rgba(60, 64, 67, 0.15);\n",
              "    fill: #174EA6;\n",
              "  }\n",
              "\n",
              "  [theme=dark] .colab-df-quickchart {\n",
              "    background-color: #3B4455;\n",
              "    fill: #D2E3FC;\n",
              "  }\n",
              "\n",
              "  [theme=dark] .colab-df-quickchart:hover {\n",
              "    background-color: #434B5C;\n",
              "    box-shadow: 0px 1px 3px 1px rgba(0, 0, 0, 0.15);\n",
              "    filter: drop-shadow(0px 1px 2px rgba(0, 0, 0, 0.3));\n",
              "    fill: #FFFFFF;\n",
              "  }\n",
              "</style>\n",
              "\n",
              "    <script>\n",
              "      async function quickchart(key) {\n",
              "        const containerElement = document.querySelector('#' + key);\n",
              "        const charts = await google.colab.kernel.invokeFunction(\n",
              "            'suggestCharts', [key], {});\n",
              "      }\n",
              "    </script>\n",
              "\n",
              "      <script>\n",
              "\n",
              "function displayQuickchartButton(domScope) {\n",
              "  let quickchartButtonEl =\n",
              "    domScope.querySelector('#df-24f64085-efba-473c-92d2-b2a2a2168cad button.colab-df-quickchart');\n",
              "  quickchartButtonEl.style.display =\n",
              "    google.colab.kernel.accessAllowed ? 'block' : 'none';\n",
              "}\n",
              "\n",
              "        displayQuickchartButton(document);\n",
              "      </script>\n",
              "      <style>\n",
              "    .colab-df-container {\n",
              "      display:flex;\n",
              "      flex-wrap:wrap;\n",
              "      gap: 12px;\n",
              "    }\n",
              "\n",
              "    .colab-df-convert {\n",
              "      background-color: #E8F0FE;\n",
              "      border: none;\n",
              "      border-radius: 50%;\n",
              "      cursor: pointer;\n",
              "      display: none;\n",
              "      fill: #1967D2;\n",
              "      height: 32px;\n",
              "      padding: 0 0 0 0;\n",
              "      width: 32px;\n",
              "    }\n",
              "\n",
              "    .colab-df-convert:hover {\n",
              "      background-color: #E2EBFA;\n",
              "      box-shadow: 0px 1px 2px rgba(60, 64, 67, 0.3), 0px 1px 3px 1px rgba(60, 64, 67, 0.15);\n",
              "      fill: #174EA6;\n",
              "    }\n",
              "\n",
              "    [theme=dark] .colab-df-convert {\n",
              "      background-color: #3B4455;\n",
              "      fill: #D2E3FC;\n",
              "    }\n",
              "\n",
              "    [theme=dark] .colab-df-convert:hover {\n",
              "      background-color: #434B5C;\n",
              "      box-shadow: 0px 1px 3px 1px rgba(0, 0, 0, 0.15);\n",
              "      filter: drop-shadow(0px 1px 2px rgba(0, 0, 0, 0.3));\n",
              "      fill: #FFFFFF;\n",
              "    }\n",
              "  </style>\n",
              "\n",
              "      <script>\n",
              "        const buttonEl =\n",
              "          document.querySelector('#df-8b73a3c7-708f-412a-a62d-eece482fc4c8 button.colab-df-convert');\n",
              "        buttonEl.style.display =\n",
              "          google.colab.kernel.accessAllowed ? 'block' : 'none';\n",
              "\n",
              "        async function convertToInteractive(key) {\n",
              "          const element = document.querySelector('#df-8b73a3c7-708f-412a-a62d-eece482fc4c8');\n",
              "          const dataTable =\n",
              "            await google.colab.kernel.invokeFunction('convertToInteractive',\n",
              "                                                     [key], {});\n",
              "          if (!dataTable) return;\n",
              "\n",
              "          const docLinkHtml = 'Like what you see? Visit the ' +\n",
              "            '<a target=\"_blank\" href=https://colab.research.google.com/notebooks/data_table.ipynb>data table notebook</a>'\n",
              "            + ' to learn more about interactive tables.';\n",
              "          element.innerHTML = '';\n",
              "          dataTable['output_type'] = 'display_data';\n",
              "          await google.colab.output.renderOutput(dataTable, element);\n",
              "          const docLink = document.createElement('div');\n",
              "          docLink.innerHTML = docLinkHtml;\n",
              "          element.appendChild(docLink);\n",
              "        }\n",
              "      </script>\n",
              "    </div>\n",
              "  </div>\n"
            ]
          },
          "metadata": {},
          "execution_count": 98
        }
      ]
    },
    {
      "cell_type": "code",
      "source": [
        "data.rename(columns={\"What challenges do TDPs face in accessing water?/Water points are too far away\": \"Water points are too far away\",\n",
        "                  \"What challenges do TDPs face in accessing water?/Water has odour/smell\": \"Water has smell\",\n",
        "    \"What are the main protection concerns in the village?/Lack of specialized services for persons with disabilities (mental/intellectual/physical)\":\"Lack of specialized services for persons with disabilities\",\n",
        "                     \"4.4.n.1 Is there evidence of open defecation?\": \"Open defecation\"}, inplace=True)"
      ],
      "metadata": {
        "id": "8SEgj2wDGZru"
      },
      "execution_count": null,
      "outputs": []
    },
    {
      "cell_type": "code",
      "source": [
        "data.shape"
      ],
      "metadata": {
        "colab": {
          "base_uri": "https://localhost:8080/"
        },
        "id": "dv5sip4rFeJe",
        "outputId": "c26a156f-cd38-4d5d-e4ae-726b1993734e"
      },
      "execution_count": null,
      "outputs": [
        {
          "output_type": "execute_result",
          "data": {
            "text/plain": [
              "(6367, 285)"
            ]
          },
          "metadata": {},
          "execution_count": 99
        }
      ]
    },
    {
      "cell_type": "code",
      "source": [
        "print(data.isnull().sum().to_string())"
      ],
      "metadata": {
        "colab": {
          "base_uri": "https://localhost:8080/"
        },
        "id": "zAf56teXFkWu",
        "outputId": "78b6c788-1478-4c3e-9186-6ae0517d99c9"
      },
      "execution_count": null,
      "outputs": [
        {
          "output_type": "stream",
          "name": "stdout",
          "text": [
            "Number of Respondents                                                                      0\n",
            "Province                                                                                   0\n",
            "Division                                                                                   0\n",
            "District                                                                                   0\n",
            "Village                                                                                    0\n",
            "Best way to reach village                                                                  0\n",
            "TPDs in Village                                                                            0\n",
            "Number of TDP households living with the host community                                 3128\n",
            "Number of TDP households living in buildings – formal relief sites                      3128\n",
            "Number of TDP households living in buildings – informal relief sites                    3128\n",
            "Number of TDP households living in temporary structures                                 3128\n",
            "Number of TDP households living in open spaces                                          3128\n",
            "tdp shelters                                                                            3128\n",
            "Received Assistance                                                                        2\n",
            "Food                                                                                    3596\n",
            "Water for drinking                                                                      3596\n",
            "Water for washing                                                                       3596\n",
            "Emergency Shelter kits                                                                  3596\n",
            "Household items                                                                         3596\n",
            "WASH kits                                                                               3596\n",
            "Dignity kits                                                                            3596\n",
            "Shelter repair kit                                                                      3596\n",
            "Shelter reconstruction                                                                  3596\n",
            "Livelihoods                                                                             3596\n",
            "Healthcare services                                                                     3596\n",
            "Medicine                                                                                3596\n",
            "Psychosocial suppor                                                                     3596\n",
            "Education services                                                                      3596\n",
            "Road clearance                                                                          3596\n",
            " Debris clearance                                                                       3596\n",
            "Family tracing                                                                          3596\n",
            "Reissue land/property documents                                                         3596\n",
            "Reissue of IDs                                                                          3596\n",
            "Other                                                                                   3596\n",
            "Seeds for farming                                                                       3596\n",
            "Cash Assistance                                                                         3596\n",
            "Satisified with Assistance                                                              3596\n",
            "Barriers in Assistance for Women                                                        3596\n",
            "Barries in Assistance for Boys                                                          3596\n",
            "Barriers in Assistance for Girls                                                        3596\n",
            "Barriers in Asistance for People with Disabilities                                      3596\n",
            "Barriers in Assistance for Elderly                                                      3596\n",
            "Barrier in Assistance for Third gender                                                  3596\n",
            "Barrier in Assistance for Other                                                         3596\n",
            "No Barrier in Assistance                                                                3596\n",
            "Need Number 1                                                                           3128\n",
            "Need Number 2                                                                           3130\n",
            "Need Number 3                                                                           3130\n",
            "Individual Community Member                                                                0\n",
            "Household Community Member                                                                 0\n",
            "Size Host Community                                                                        0\n",
            "TDPs individuals                                                                        3128\n",
            "TDPs households                                                                         3128\n",
            "Size TDPs                                                                               3128\n",
            "Age breakdown of TDPs                                                                   3128\n",
            "Infants male                                                                            4154\n",
            "Children male                                                                           4154\n",
            "Youth male                                                                              4154\n",
            "Adults male                                                                             4154\n",
            "Elderly male                                                                            4154\n",
            "Infants female                                                                          4154\n",
            "Children female                                                                         4154\n",
            "Youth female                                                                            4154\n",
            "Adults female                                                                           4154\n",
            "Elderly female                                                                          4154\n",
            "Infants TG                                                                              4154\n",
            "Children TG                                                                             4154\n",
            "Youth TG                                                                                4154\n",
            "Adults TG                                                                               4154\n",
            "Elderly TG                                                                              4154\n",
            "male_total                                                                              4154\n",
            "female_total                                                                            4154\n",
            "thirdGender_total                                                                       4154\n",
            "infants_0_4_total                                                                       4154\n",
            "children_5_14_total                                                                     4154\n",
            "youth_15_17_total                                                                       4154\n",
            "adults_18_59_total                                                                      4154\n",
            "elderly_60Above_total                                                                   4154\n",
            "No. of individual TDPs of largest TDP group                                             3158\n",
            "No. of TDP households of largest TDP group                                              3158\n",
            "Province.1                                                                              3158\n",
            "Division.1                                                                              3158\n",
            "District.1                                                                              3158\n",
            "Village.1                                                                               3158\n",
            "No. of individuals TDPs of 2nd largest TDP group                                        5978\n",
            "No. of TDP households of 2nd largest TDP group                                          5978\n",
            "Province.2                                                                              5960\n",
            "Division.2                                                                              5977\n",
            "District.2                                                                              5978\n",
            "Village.2                                                                               5978\n",
            "first_second_calculate_ind                                                              3158\n",
            "first_second_calculate_hh                                                               3158\n",
            "TDPs in 2022 and no longer displaced                                                       1\n",
            "Number of TDP returnees (individuals)                                                   2760\n",
            "Number of TDP returnees (households)                                                    2760\n",
            "Date of arrival of first TDP group                                                      3128\n",
            "Date of arrival of last TDP group                                                       3128\n",
            "TDPs intent to return, relocate or integrate                                            3128\n",
            "Preferred way to come back                                                              3492\n",
            "Impact on return                                                                        5224\n",
            "Existing flood waters                                                                   5224\n",
            "Inaccessibility due to flooded road                                                     5224\n",
            "Partially damaged houses                                                                5224\n",
            "Destroyed houses                                                                        5224\n",
            "Lack of food                                                                            5224\n",
            "Loss of assets                                                                          5224\n",
            "No livelihoods                                                                          5224\n",
            "Lack of basic infrastructure                                                            5224\n",
            "Lack of education service                                                               5224\n",
            "Lack of health services                                                                 5224\n",
            "Lack of WASH services                                                                   5224\n",
            "Lack of access to water point                                                           5224\n",
            "Loss of land                                                                            5224\n",
            "Lack of access to land                                                                  5224\n",
            "Dispute over land                                                                       5224\n",
            "Lack of land/property documents                                                         5224\n",
            "Lack of civil documents/IDs                                                             5224\n",
            "Electricity                                                                                0\n",
            "Tap water                                                                                  0\n",
            "Cell phone coverage                                                                        0\n",
            "Road to village                                                                            0\n",
            "Primary school                                                                             0\n",
            "Health facility                                                                            0\n",
            "Market                                                                                     0\n",
            "Number of partially damaged shelter in the village                                         0\n",
            "Number of destroyed shelter in the village                                                 0\n",
            "Number of Partially damaged shelter in TDPs'place                                       3123\n",
            "Number of completely destroyed shelter in TDPs'place                                    3123\n",
            "Main concerns with current shelter                                                         0\n",
            "Overcrowded shelter                                                                        0\n",
            "Lack of security in shelter                                                                0\n",
            "Lack of privacy in Shelter                                                                 0\n",
            "No light in Shelter                                                                        0\n",
            "Not waterproof in Shelter                                                                  0\n",
            "Not a concrete structure in Shelter                                                        0\n",
            "Eviction in Shelter                                                                        0\n",
            "No ownership over shelter                                                                  0\n",
            "Concerns are None                                                                          0\n",
            "Number of needs                                                                         1683\n",
            "Most needed NFI                                                                            0\n",
            "Received most needed NFI                                                                3128\n",
            "Date of the last distribution                                                           5520\n",
            "The place where TDPs collect drinking water                                             3128\n",
            "Far away                                                                                3128\n",
            "Water points are too far away                                                           3128\n",
            "Fetching water is dangerous                                                             3128\n",
            "Long waiting times at water points                                                      3128\n",
            "Water points are not functional                                                         3128\n",
            "Not enough storage containers                                                           3128\n",
            "Too expensive                                                                           3128\n",
            "Not enough water points                                                                 3128\n",
            "Water has smell                                                                         3128\n",
            "Not available on the market                                                             3128\n",
            "Bad Quality                                                                             3128\n",
            "Suspended solids                                                                        3128\n",
            "None                                                                                    3128\n",
            "Don’t know                                                                              3128\n",
            "Total top 3 needs                                                                       1683\n",
            "Distance in village's main water distribution point                                     3128\n",
            "Time on queue for water                                                                 3128\n",
            "Open defecation                                                                         3128\n",
            "Challenges in accessing for defecating                                                  3128\n",
            "Not enough facilities / too crowded                                                     3128\n",
            "/Facilities unclean / unhygienic                                                        3128\n",
            "Lack of privacy                                                                         3128\n",
            "It’s not safe (during daylight)                                                         3128\n",
            "Toilet is full                                                                          3128\n",
            "It’s not safe (when it is dark)                                                         3128\n",
            "Facilities are too far away                                                             3128\n",
            "Facilities are difficult to reach (slippery, muddy, steep, flooded)                     3128\n",
            "Lack of separation between men / women                                                  3128\n",
            "None                                                                                    3128\n",
            "Total top 3 answers                                                                     1683\n",
            "Place to defecate                                                                       3128\n",
            "Segregated latrines for men and women                                                   3128\n",
            "Common way for TDPs to access food                                                      3128\n",
            "2nd most common way for TDPs to access food                                             3136\n",
            "Last time food to be distributed                                                           0\n",
            "Number of receive food assistance                                                          0\n",
            "proportion of households that received food distribution                                   0\n",
            "Access to the market                                                                    3128\n",
            "Food items available in the market                                                      3548\n",
            "Number 1 most immediate food need                                                          0\n",
            "Number 2 most immediate food need                                                         96\n",
            "Number 3 most immediate food need                                                         99\n",
            "No food to eat                                                                          3127\n",
            "Primary health concern                                                                     0\n",
            "Other primary health concern                                                            6354\n",
            "Availability of health facility                                                            0\n",
            "Distance health services                                                                   0\n",
            "Preventing most people from accessing healthcare services                                  0\n",
            "Money                                                                                      0\n",
            "No medicine                                                                                0\n",
            "Lack of medicine                                                                           0\n",
            "Distance to health facility                                                                0\n",
            "No documentation/IDs                                                                       0\n",
            "Lack of medical personnel                                                                  0\n",
            "Damaged Health facility                                                                    0\n",
            "Nothing                                                                                    0\n",
            "Access to Education                                                                     3128\n",
            "Percent of TDPs children attending ABE                                                  3128\n",
            "Access to primary schools                                                               3128\n",
            "Percent of TDPs children in primary school                                              3128\n",
            "Issues with accessing education                                                         3128\n",
            "Distance                                                                                3128\n",
            "Cost                                                                                    3128\n",
            "Unequal access because of status                                                        3128\n",
            "Unequal access based on gender                                                          3128\n",
            "Poor education standards                                                                3128\n",
            "Lack of teachers                                                                        3128\n",
            "Poor infrastructure                                                                     3128\n",
            "Damaged infrastructure due to the floods                                                3128\n",
            "Lack of learning supplies                                                               3128\n",
            "Lack of awareness of the benefits of education                                          3128\n",
            "Lack of security                                                                        3128\n",
            "Lack of documentation/IDs                                                               3128\n",
            "Other Issues                                                                            3128\n",
            "No Issues                                                                               3128\n",
            "Occupation Number 1                                                                     3128\n",
            "Occupation Number 2                                                                     3136\n",
            "Occupation Number 3                                                                     3187\n",
            "Percent of Income                                                                       3128\n",
            "lost and damaged assets                                                                 3128\n",
            "Cattle                                                                                  3128\n",
            "Sheep                                                                                   3128\n",
            "Goat                                                                                    3128\n",
            "Donkey                                                                                  3128\n",
            "Poultry                                                                                 3128\n",
            "Camels                                                                                  3128\n",
            "Crops/seeds                                                                             3128\n",
            "Business                                                                                3128\n",
            "House in place of origin                                                                3128\n",
            "Land in place of origin                                                                 3128\n",
            "Land/ property documentation                                                            3128\n",
            "Civil documents/ IDs                                                                    3128\n",
            "Unknown                                                                                 3128\n",
            "None                                                                                    3128\n",
            "Main protection concerns                                                                   0\n",
            "Robbery                                                                                    0\n",
            "Threats                                                                                    0\n",
            "Physical violence                                                                          0\n",
            "Extortion                                                                                  0\n",
            "Harassment                                                                                 0\n",
            "Domestic violence                                                                          0\n",
            "Violence against women and girls                                                           0\n",
            "Violence against children                                                                  0\n",
            "Human trafficking                                                                          0\n",
            "Forced labor                                                                               0\n",
            "Child marriage                                                                             0\n",
            "Inter-communal dispute                                                                     0\n",
            "Family separation                                                                          0\n",
            "Forced marriage                                                                            0\n",
            "No access to services                                                                      0\n",
            "Lack of lighting                                                                           0\n",
            "Lack of safe spaces for women & girls                                                      0\n",
            "Lack of safe spaces for children                                                           0\n",
            "Lack of specialized services for elderly                                                   0\n",
            "Lack of specialized services for persons with disabilities                                 0\n",
            "Loss of land/property ownership documents                                                  0\n",
            "Loss of ID/civil documents                                                                 0\n",
            "Forced Eviction                                                                            0\n",
            "Treatment by aid workers                                                                   0\n",
            "Other                                                                                      0\n",
            "None                                                                                       0\n",
            "Protection services                                                                        0\n",
            "Family tracing                                                                             0\n",
            "Psychosocial support for people impacted by the floods                                     0\n",
            "Safe spaces for women and girls                                                            0\n",
            "Healthcare for women and girls                                                             0\n",
            "Specialized services for elderly                                                           0\n",
            "Psychosocial support for women and girls                                                   0\n",
            "Services to persons with disabilities                                                      0\n",
            "Safe places for children                                                                   0\n",
            "Psychosocial support for children                                                          0\n",
            "Places to renew civil documents and receive information on civil documents                 0\n",
            "Places to renew land/property documents and receive info on land/ property documents       0\n",
            "Legal assistance/counselling                                                               0\n",
            "Other protection services                                                                  0\n",
            "No protection services                                                                     0\n",
            "Lighting in the latrines                                                                   0\n",
            "Information about free services                                                            0\n",
            "Place to complain                                                                          0\n",
            "Information matching with different informants                                             0\n",
            "Information matching with your observation                                                 0\n",
            "Records of TDPs                                                                            0\n"
          ]
        }
      ]
    }
  ]
}